{
  "nbformat": 4,
  "nbformat_minor": 0,
  "metadata": {
    "colab": {
      "provenance": []
    },
    "kernelspec": {
      "name": "python3",
      "display_name": "Python 3"
    },
    "language_info": {
      "name": "python"
    }
  },
  "cells": [
    {
      "cell_type": "markdown",
      "source": [
        "## Setup & Dependencies"
      ],
      "metadata": {
        "id": "hJs8LrWSokY-"
      }
    },
    {
      "cell_type": "code",
      "source": [
        "!pip install pandas numpy nltk spacy scikit-learn transformers beautifulsoup4 matplotlib seaborn swifter emoji==0.6.0\n",
        "!python -m spacy download en_core_web_trf\n",
        "\n",
        "import pandas as pd\n",
        "import numpy as np\n",
        "import re\n",
        "from bs4 import BeautifulSoup\n",
        "import nltk\n",
        "import spacy\n",
        "import swifter\n",
        "from transformers import pipeline, AutoTokenizer\n",
        "from sklearn.feature_extraction.text import TfidfVectorizer\n",
        "from sklearn.decomposition import LatentDirichletAllocation\n",
        "from sklearn.linear_model import LinearRegression\n",
        "from sklearn.ensemble import RandomForestRegressor, GradientBoostingRegressor\n",
        "from sklearn.model_selection import train_test_split\n",
        "from sklearn.metrics import mean_squared_error, r2_score\n",
        "import matplotlib.pyplot as plt\n",
        "import seaborn as sns\n",
        "from scipy.stats import f_oneway\n",
        "from google.colab import drive\n",
        "\n",
        "\n",
        "drive.mount('/content/drive')\n",
        "\n",
        "# Set plotting style\n",
        "sns.set(style='ticks', color_codes=True, font_scale=0.8)\n",
        "plt.rcParams['figure.figsize'] = (6, 4)\n",
        "%config InlineBackend.figure_format = 'retina'\n",
        "\n",
        "# NLTK downloads\n",
        "nltk.download('punkt', quiet=True)\n",
        "nltk.download('stopwords', quiet=True)\n",
        "nltk.download('averaged_perceptron_tagger', quiet=True)\n",
        "nltk.download('punkt_tab', quiet=True)\n",
        "\n",
        "# Load spaCy model\n",
        "nlp = spacy.load(\"en_core_web_trf\")\n",
        "\n",
        "print(\"Setup complete!\")"
      ],
      "metadata": {
        "colab": {
          "base_uri": "https://localhost:8080/"
        },
        "id": "VkUwfEuupLCM",
        "outputId": "cde5d503-6a96-4236-d58f-cf1c966080df"
      },
      "execution_count": 1,
      "outputs": [
        {
          "output_type": "stream",
          "name": "stdout",
          "text": [
            "Requirement already satisfied: pandas in /usr/local/lib/python3.11/dist-packages (2.2.2)\n",
            "Requirement already satisfied: numpy in /usr/local/lib/python3.11/dist-packages (2.0.2)\n",
            "Requirement already satisfied: nltk in /usr/local/lib/python3.11/dist-packages (3.9.1)\n",
            "Requirement already satisfied: spacy in /usr/local/lib/python3.11/dist-packages (3.8.4)\n",
            "Requirement already satisfied: scikit-learn in /usr/local/lib/python3.11/dist-packages (1.6.1)\n",
            "Requirement already satisfied: transformers in /usr/local/lib/python3.11/dist-packages (4.49.0)\n",
            "Requirement already satisfied: beautifulsoup4 in /usr/local/lib/python3.11/dist-packages (4.13.3)\n",
            "Requirement already satisfied: matplotlib in /usr/local/lib/python3.11/dist-packages (3.10.0)\n",
            "Requirement already satisfied: seaborn in /usr/local/lib/python3.11/dist-packages (0.13.2)\n",
            "Requirement already satisfied: swifter in /usr/local/lib/python3.11/dist-packages (1.4.0)\n",
            "Requirement already satisfied: emoji==0.6.0 in /usr/local/lib/python3.11/dist-packages (0.6.0)\n",
            "Requirement already satisfied: python-dateutil>=2.8.2 in /usr/local/lib/python3.11/dist-packages (from pandas) (2.8.2)\n",
            "Requirement already satisfied: pytz>=2020.1 in /usr/local/lib/python3.11/dist-packages (from pandas) (2025.1)\n",
            "Requirement already satisfied: tzdata>=2022.7 in /usr/local/lib/python3.11/dist-packages (from pandas) (2025.1)\n",
            "Requirement already satisfied: click in /usr/local/lib/python3.11/dist-packages (from nltk) (8.1.8)\n",
            "Requirement already satisfied: joblib in /usr/local/lib/python3.11/dist-packages (from nltk) (1.4.2)\n",
            "Requirement already satisfied: regex>=2021.8.3 in /usr/local/lib/python3.11/dist-packages (from nltk) (2024.11.6)\n",
            "Requirement already satisfied: tqdm in /usr/local/lib/python3.11/dist-packages (from nltk) (4.67.1)\n",
            "Requirement already satisfied: spacy-legacy<3.1.0,>=3.0.11 in /usr/local/lib/python3.11/dist-packages (from spacy) (3.0.12)\n",
            "Requirement already satisfied: spacy-loggers<2.0.0,>=1.0.0 in /usr/local/lib/python3.11/dist-packages (from spacy) (1.0.5)\n",
            "Requirement already satisfied: murmurhash<1.1.0,>=0.28.0 in /usr/local/lib/python3.11/dist-packages (from spacy) (1.0.12)\n",
            "Requirement already satisfied: cymem<2.1.0,>=2.0.2 in /usr/local/lib/python3.11/dist-packages (from spacy) (2.0.11)\n",
            "Requirement already satisfied: preshed<3.1.0,>=3.0.2 in /usr/local/lib/python3.11/dist-packages (from spacy) (3.0.9)\n",
            "Requirement already satisfied: thinc<8.4.0,>=8.3.4 in /usr/local/lib/python3.11/dist-packages (from spacy) (8.3.4)\n",
            "Requirement already satisfied: wasabi<1.2.0,>=0.9.1 in /usr/local/lib/python3.11/dist-packages (from spacy) (1.1.3)\n",
            "Requirement already satisfied: srsly<3.0.0,>=2.4.3 in /usr/local/lib/python3.11/dist-packages (from spacy) (2.5.1)\n",
            "Requirement already satisfied: catalogue<2.1.0,>=2.0.6 in /usr/local/lib/python3.11/dist-packages (from spacy) (2.0.10)\n",
            "Requirement already satisfied: weasel<0.5.0,>=0.1.0 in /usr/local/lib/python3.11/dist-packages (from spacy) (0.4.1)\n",
            "Requirement already satisfied: typer<1.0.0,>=0.3.0 in /usr/local/lib/python3.11/dist-packages (from spacy) (0.15.2)\n",
            "Requirement already satisfied: requests<3.0.0,>=2.13.0 in /usr/local/lib/python3.11/dist-packages (from spacy) (2.32.3)\n",
            "Requirement already satisfied: pydantic!=1.8,!=1.8.1,<3.0.0,>=1.7.4 in /usr/local/lib/python3.11/dist-packages (from spacy) (2.10.6)\n",
            "Requirement already satisfied: jinja2 in /usr/local/lib/python3.11/dist-packages (from spacy) (3.1.6)\n",
            "Requirement already satisfied: setuptools in /usr/local/lib/python3.11/dist-packages (from spacy) (75.1.0)\n",
            "Requirement already satisfied: packaging>=20.0 in /usr/local/lib/python3.11/dist-packages (from spacy) (24.2)\n",
            "Requirement already satisfied: langcodes<4.0.0,>=3.2.0 in /usr/local/lib/python3.11/dist-packages (from spacy) (3.5.0)\n",
            "Requirement already satisfied: scipy>=1.6.0 in /usr/local/lib/python3.11/dist-packages (from scikit-learn) (1.14.1)\n",
            "Requirement already satisfied: threadpoolctl>=3.1.0 in /usr/local/lib/python3.11/dist-packages (from scikit-learn) (3.6.0)\n",
            "Requirement already satisfied: filelock in /usr/local/lib/python3.11/dist-packages (from transformers) (3.18.0)\n",
            "Requirement already satisfied: huggingface-hub<1.0,>=0.26.0 in /usr/local/lib/python3.11/dist-packages (from transformers) (0.29.3)\n",
            "Requirement already satisfied: pyyaml>=5.1 in /usr/local/lib/python3.11/dist-packages (from transformers) (6.0.2)\n",
            "Requirement already satisfied: tokenizers<0.22,>=0.21 in /usr/local/lib/python3.11/dist-packages (from transformers) (0.21.1)\n",
            "Requirement already satisfied: safetensors>=0.4.1 in /usr/local/lib/python3.11/dist-packages (from transformers) (0.5.3)\n",
            "Requirement already satisfied: soupsieve>1.2 in /usr/local/lib/python3.11/dist-packages (from beautifulsoup4) (2.6)\n",
            "Requirement already satisfied: typing-extensions>=4.0.0 in /usr/local/lib/python3.11/dist-packages (from beautifulsoup4) (4.12.2)\n",
            "Requirement already satisfied: contourpy>=1.0.1 in /usr/local/lib/python3.11/dist-packages (from matplotlib) (1.3.1)\n",
            "Requirement already satisfied: cycler>=0.10 in /usr/local/lib/python3.11/dist-packages (from matplotlib) (0.12.1)\n",
            "Requirement already satisfied: fonttools>=4.22.0 in /usr/local/lib/python3.11/dist-packages (from matplotlib) (4.56.0)\n",
            "Requirement already satisfied: kiwisolver>=1.3.1 in /usr/local/lib/python3.11/dist-packages (from matplotlib) (1.4.8)\n",
            "Requirement already satisfied: pillow>=8 in /usr/local/lib/python3.11/dist-packages (from matplotlib) (11.1.0)\n",
            "Requirement already satisfied: pyparsing>=2.3.1 in /usr/local/lib/python3.11/dist-packages (from matplotlib) (3.2.1)\n",
            "Requirement already satisfied: psutil>=5.6.6 in /usr/local/lib/python3.11/dist-packages (from swifter) (5.9.5)\n",
            "Requirement already satisfied: dask>=2.10.0 in /usr/local/lib/python3.11/dist-packages (from dask[dataframe]>=2.10.0->swifter) (2024.12.1)\n",
            "Requirement already satisfied: cloudpickle>=3.0.0 in /usr/local/lib/python3.11/dist-packages (from dask>=2.10.0->dask[dataframe]>=2.10.0->swifter) (3.1.1)\n",
            "Requirement already satisfied: fsspec>=2021.09.0 in /usr/local/lib/python3.11/dist-packages (from dask>=2.10.0->dask[dataframe]>=2.10.0->swifter) (2025.3.0)\n",
            "Requirement already satisfied: partd>=1.4.0 in /usr/local/lib/python3.11/dist-packages (from dask>=2.10.0->dask[dataframe]>=2.10.0->swifter) (1.4.2)\n",
            "Requirement already satisfied: toolz>=0.10.0 in /usr/local/lib/python3.11/dist-packages (from dask>=2.10.0->dask[dataframe]>=2.10.0->swifter) (0.12.1)\n",
            "Requirement already satisfied: importlib_metadata>=4.13.0 in /usr/local/lib/python3.11/dist-packages (from dask>=2.10.0->dask[dataframe]>=2.10.0->swifter) (8.6.1)\n",
            "Requirement already satisfied: dask-expr<1.2,>=1.1 in /usr/local/lib/python3.11/dist-packages (from dask[dataframe]>=2.10.0->swifter) (1.1.21)\n",
            "Requirement already satisfied: language-data>=1.2 in /usr/local/lib/python3.11/dist-packages (from langcodes<4.0.0,>=3.2.0->spacy) (1.3.0)\n",
            "Requirement already satisfied: annotated-types>=0.6.0 in /usr/local/lib/python3.11/dist-packages (from pydantic!=1.8,!=1.8.1,<3.0.0,>=1.7.4->spacy) (0.7.0)\n",
            "Requirement already satisfied: pydantic-core==2.27.2 in /usr/local/lib/python3.11/dist-packages (from pydantic!=1.8,!=1.8.1,<3.0.0,>=1.7.4->spacy) (2.27.2)\n",
            "Requirement already satisfied: six>=1.5 in /usr/local/lib/python3.11/dist-packages (from python-dateutil>=2.8.2->pandas) (1.17.0)\n",
            "Requirement already satisfied: charset-normalizer<4,>=2 in /usr/local/lib/python3.11/dist-packages (from requests<3.0.0,>=2.13.0->spacy) (3.4.1)\n",
            "Requirement already satisfied: idna<4,>=2.5 in /usr/local/lib/python3.11/dist-packages (from requests<3.0.0,>=2.13.0->spacy) (3.10)\n",
            "Requirement already satisfied: urllib3<3,>=1.21.1 in /usr/local/lib/python3.11/dist-packages (from requests<3.0.0,>=2.13.0->spacy) (2.3.0)\n",
            "Requirement already satisfied: certifi>=2017.4.17 in /usr/local/lib/python3.11/dist-packages (from requests<3.0.0,>=2.13.0->spacy) (2025.1.31)\n",
            "Requirement already satisfied: blis<1.3.0,>=1.2.0 in /usr/local/lib/python3.11/dist-packages (from thinc<8.4.0,>=8.3.4->spacy) (1.2.0)\n",
            "Requirement already satisfied: confection<1.0.0,>=0.0.1 in /usr/local/lib/python3.11/dist-packages (from thinc<8.4.0,>=8.3.4->spacy) (0.1.5)\n",
            "Requirement already satisfied: shellingham>=1.3.0 in /usr/local/lib/python3.11/dist-packages (from typer<1.0.0,>=0.3.0->spacy) (1.5.4)\n",
            "Requirement already satisfied: rich>=10.11.0 in /usr/local/lib/python3.11/dist-packages (from typer<1.0.0,>=0.3.0->spacy) (13.9.4)\n",
            "Requirement already satisfied: cloudpathlib<1.0.0,>=0.7.0 in /usr/local/lib/python3.11/dist-packages (from weasel<0.5.0,>=0.1.0->spacy) (0.21.0)\n",
            "Requirement already satisfied: smart-open<8.0.0,>=5.2.1 in /usr/local/lib/python3.11/dist-packages (from weasel<0.5.0,>=0.1.0->spacy) (7.1.0)\n",
            "Requirement already satisfied: MarkupSafe>=2.0 in /usr/local/lib/python3.11/dist-packages (from jinja2->spacy) (3.0.2)\n",
            "Requirement already satisfied: pyarrow>=14.0.1 in /usr/local/lib/python3.11/dist-packages (from dask-expr<1.2,>=1.1->dask[dataframe]>=2.10.0->swifter) (18.1.0)\n",
            "Requirement already satisfied: zipp>=3.20 in /usr/local/lib/python3.11/dist-packages (from importlib_metadata>=4.13.0->dask>=2.10.0->dask[dataframe]>=2.10.0->swifter) (3.21.0)\n",
            "Requirement already satisfied: marisa-trie>=1.1.0 in /usr/local/lib/python3.11/dist-packages (from language-data>=1.2->langcodes<4.0.0,>=3.2.0->spacy) (1.2.1)\n",
            "Requirement already satisfied: locket in /usr/local/lib/python3.11/dist-packages (from partd>=1.4.0->dask>=2.10.0->dask[dataframe]>=2.10.0->swifter) (1.0.0)\n",
            "Requirement already satisfied: markdown-it-py>=2.2.0 in /usr/local/lib/python3.11/dist-packages (from rich>=10.11.0->typer<1.0.0,>=0.3.0->spacy) (3.0.0)\n",
            "Requirement already satisfied: pygments<3.0.0,>=2.13.0 in /usr/local/lib/python3.11/dist-packages (from rich>=10.11.0->typer<1.0.0,>=0.3.0->spacy) (2.18.0)\n",
            "Requirement already satisfied: wrapt in /usr/local/lib/python3.11/dist-packages (from smart-open<8.0.0,>=5.2.1->weasel<0.5.0,>=0.1.0->spacy) (1.17.2)\n",
            "Requirement already satisfied: mdurl~=0.1 in /usr/local/lib/python3.11/dist-packages (from markdown-it-py>=2.2.0->rich>=10.11.0->typer<1.0.0,>=0.3.0->spacy) (0.1.2)\n",
            "Collecting en-core-web-trf==3.8.0\n",
            "  Downloading https://github.com/explosion/spacy-models/releases/download/en_core_web_trf-3.8.0/en_core_web_trf-3.8.0-py3-none-any.whl (457.4 MB)\n",
            "\u001b[2K     \u001b[90m\u2501\u2501\u2501\u2501\u2501\u2501\u2501\u2501\u2501\u2501\u2501\u2501\u2501\u2501\u2501\u2501\u2501\u2501\u2501\u2501\u2501\u2501\u2501\u2501\u2501\u2501\u2501\u2501\u2501\u2501\u2501\u2501\u2501\u2501\u2501\u2501\u2501\u2501\u2501\u2501\u001b[0m \u001b[32m457.4/457.4 MB\u001b[0m \u001b[31m642.9 kB/s\u001b[0m eta \u001b[36m0:00:00\u001b[0m\n",
            "\u001b[?25hRequirement already satisfied: spacy-curated-transformers<1.0.0,>=0.2.2 in /usr/local/lib/python3.11/dist-packages (from en-core-web-trf==3.8.0) (0.3.0)\n",
            "Requirement already satisfied: curated-transformers<0.2.0,>=0.1.0 in /usr/local/lib/python3.11/dist-packages (from spacy-curated-transformers<1.0.0,>=0.2.2->en-core-web-trf==3.8.0) (0.1.1)\n",
            "Requirement already satisfied: curated-tokenizers<0.1.0,>=0.0.9 in /usr/local/lib/python3.11/dist-packages (from spacy-curated-transformers<1.0.0,>=0.2.2->en-core-web-trf==3.8.0) (0.0.9)\n",
            "Requirement already satisfied: torch>=1.12.0 in /usr/local/lib/python3.11/dist-packages (from spacy-curated-transformers<1.0.0,>=0.2.2->en-core-web-trf==3.8.0) (2.6.0+cu124)\n",
            "Requirement already satisfied: regex>=2022 in /usr/local/lib/python3.11/dist-packages (from curated-tokenizers<0.1.0,>=0.0.9->spacy-curated-transformers<1.0.0,>=0.2.2->en-core-web-trf==3.8.0) (2024.11.6)\n",
            "Requirement already satisfied: filelock in /usr/local/lib/python3.11/dist-packages (from torch>=1.12.0->spacy-curated-transformers<1.0.0,>=0.2.2->en-core-web-trf==3.8.0) (3.18.0)\n",
            "Requirement already satisfied: typing-extensions>=4.10.0 in /usr/local/lib/python3.11/dist-packages (from torch>=1.12.0->spacy-curated-transformers<1.0.0,>=0.2.2->en-core-web-trf==3.8.0) (4.12.2)\n",
            "Requirement already satisfied: networkx in /usr/local/lib/python3.11/dist-packages (from torch>=1.12.0->spacy-curated-transformers<1.0.0,>=0.2.2->en-core-web-trf==3.8.0) (3.4.2)\n",
            "Requirement already satisfied: jinja2 in /usr/local/lib/python3.11/dist-packages (from torch>=1.12.0->spacy-curated-transformers<1.0.0,>=0.2.2->en-core-web-trf==3.8.0) (3.1.6)\n",
            "Requirement already satisfied: fsspec in /usr/local/lib/python3.11/dist-packages (from torch>=1.12.0->spacy-curated-transformers<1.0.0,>=0.2.2->en-core-web-trf==3.8.0) (2025.3.0)\n",
            "Requirement already satisfied: nvidia-cuda-nvrtc-cu12==12.4.127 in /usr/local/lib/python3.11/dist-packages (from torch>=1.12.0->spacy-curated-transformers<1.0.0,>=0.2.2->en-core-web-trf==3.8.0) (12.4.127)\n",
            "Requirement already satisfied: nvidia-cuda-runtime-cu12==12.4.127 in /usr/local/lib/python3.11/dist-packages (from torch>=1.12.0->spacy-curated-transformers<1.0.0,>=0.2.2->en-core-web-trf==3.8.0) (12.4.127)\n",
            "Requirement already satisfied: nvidia-cuda-cupti-cu12==12.4.127 in /usr/local/lib/python3.11/dist-packages (from torch>=1.12.0->spacy-curated-transformers<1.0.0,>=0.2.2->en-core-web-trf==3.8.0) (12.4.127)\n",
            "Requirement already satisfied: nvidia-cudnn-cu12==9.1.0.70 in /usr/local/lib/python3.11/dist-packages (from torch>=1.12.0->spacy-curated-transformers<1.0.0,>=0.2.2->en-core-web-trf==3.8.0) (9.1.0.70)\n",
            "Requirement already satisfied: nvidia-cublas-cu12==12.4.5.8 in /usr/local/lib/python3.11/dist-packages (from torch>=1.12.0->spacy-curated-transformers<1.0.0,>=0.2.2->en-core-web-trf==3.8.0) (12.4.5.8)\n",
            "Requirement already satisfied: nvidia-cufft-cu12==11.2.1.3 in /usr/local/lib/python3.11/dist-packages (from torch>=1.12.0->spacy-curated-transformers<1.0.0,>=0.2.2->en-core-web-trf==3.8.0) (11.2.1.3)\n",
            "Requirement already satisfied: nvidia-curand-cu12==10.3.5.147 in /usr/local/lib/python3.11/dist-packages (from torch>=1.12.0->spacy-curated-transformers<1.0.0,>=0.2.2->en-core-web-trf==3.8.0) (10.3.5.147)\n",
            "Requirement already satisfied: nvidia-cusolver-cu12==11.6.1.9 in /usr/local/lib/python3.11/dist-packages (from torch>=1.12.0->spacy-curated-transformers<1.0.0,>=0.2.2->en-core-web-trf==3.8.0) (11.6.1.9)\n",
            "Requirement already satisfied: nvidia-cusparse-cu12==12.3.1.170 in /usr/local/lib/python3.11/dist-packages (from torch>=1.12.0->spacy-curated-transformers<1.0.0,>=0.2.2->en-core-web-trf==3.8.0) (12.3.1.170)\n",
            "Requirement already satisfied: nvidia-cusparselt-cu12==0.6.2 in /usr/local/lib/python3.11/dist-packages (from torch>=1.12.0->spacy-curated-transformers<1.0.0,>=0.2.2->en-core-web-trf==3.8.0) (0.6.2)\n",
            "Requirement already satisfied: nvidia-nccl-cu12==2.21.5 in /usr/local/lib/python3.11/dist-packages (from torch>=1.12.0->spacy-curated-transformers<1.0.0,>=0.2.2->en-core-web-trf==3.8.0) (2.21.5)\n",
            "Requirement already satisfied: nvidia-nvtx-cu12==12.4.127 in /usr/local/lib/python3.11/dist-packages (from torch>=1.12.0->spacy-curated-transformers<1.0.0,>=0.2.2->en-core-web-trf==3.8.0) (12.4.127)\n",
            "Requirement already satisfied: nvidia-nvjitlink-cu12==12.4.127 in /usr/local/lib/python3.11/dist-packages (from torch>=1.12.0->spacy-curated-transformers<1.0.0,>=0.2.2->en-core-web-trf==3.8.0) (12.4.127)\n",
            "Requirement already satisfied: triton==3.2.0 in /usr/local/lib/python3.11/dist-packages (from torch>=1.12.0->spacy-curated-transformers<1.0.0,>=0.2.2->en-core-web-trf==3.8.0) (3.2.0)\n",
            "Requirement already satisfied: sympy==1.13.1 in /usr/local/lib/python3.11/dist-packages (from torch>=1.12.0->spacy-curated-transformers<1.0.0,>=0.2.2->en-core-web-trf==3.8.0) (1.13.1)\n",
            "Requirement already satisfied: mpmath<1.4,>=1.1.0 in /usr/local/lib/python3.11/dist-packages (from sympy==1.13.1->torch>=1.12.0->spacy-curated-transformers<1.0.0,>=0.2.2->en-core-web-trf==3.8.0) (1.3.0)\n",
            "Requirement already satisfied: MarkupSafe>=2.0 in /usr/local/lib/python3.11/dist-packages (from jinja2->torch>=1.12.0->spacy-curated-transformers<1.0.0,>=0.2.2->en-core-web-trf==3.8.0) (3.0.2)\n",
            "\u001b[38;5;2m\u2714 Download and installation successful\u001b[0m\n",
            "You can now load the package via spacy.load('en_core_web_trf')\n",
            "\u001b[38;5;3m\u26a0 Restart to reload dependencies\u001b[0m\n",
            "If you are in a Jupyter or Colab notebook, you may need to restart Python in\n",
            "order to load all the package's dependencies. You can do this by selecting the\n",
            "'Restart kernel' or 'Restart runtime' option.\n",
            "Drive already mounted at /content/drive; to attempt to forcibly remount, call drive.mount(\"/content/drive\", force_remount=True).\n",
            "Setup complete!\n"
          ]
        }
      ]
    },
    {
      "cell_type": "code",
      "source": [],
      "metadata": {
        "id": "dA_kiGM2p9KL"
      },
      "execution_count": 1,
      "outputs": []
    },
    {
      "cell_type": "markdown",
      "source": [
        "## Load Data"
      ],
      "metadata": {
        "id": "hp0YyTRIrL3u"
      }
    },
    {
      "cell_type": "code",
      "source": [
        "def load_data(news_files, transfer_files):\n",
        "    \"\"\"Load and combine news and transfer datasets from Google Drive.\"\"\"\n",
        "    news_dfs = [pd.read_csv(f, low_memory=False) for f in news_files]\n",
        "    news_df = pd.concat(news_dfs, ignore_index=True)\n",
        "    transfer_df1 = pd.read_csv(transfer_files[0], low_memory=False)\n",
        "    transfer_df2 = pd.read_csv(transfer_files[1], low_memory=False)\n",
        "    transfer_df3 = pd.read_csv(transfer_files[2], low_memory=False)\n",
        "    print(\"News data loaded:\", news_df.shape)\n",
        "    print(\"Transfer data loaded:\", transfer_df1.shape, transfer_df2.shape, transfer_df3.shape)\n",
        "    return news_df, transfer_df1, transfer_df2, transfer_df3\n",
        "\n",
        "news_files = [\n",
        "    '/content/drive/MyDrive/Dataset/Dataset/News Database/Copy of miao_feed_data.csv',\n",
        "    '/content/drive/MyDrive/Dataset/Dataset/News Database/Copy of news_feed_data.csv'\n",
        "]\n",
        "transfer_files = [\n",
        "    '/content/drive/MyDrive/Dataset/Dataset/Transfer History/player_detail.csv',\n",
        "    '/content/drive/MyDrive/Dataset/Dataset/Transfer History/tm_player_market_value_development.csv',\n",
        "    '/content/drive/MyDrive/Dataset/Dataset/Transfer History/tm_player_transfer_history.csv'\n",
        "]\n",
        "\n",
        "news_df, transfer_df1, transfer_df2, transfer_df3 = load_data(news_files, transfer_files)\n",
        "print(\"Full news data loaded:\", news_df.shape)\n",
        "print(\"Columns:\", news_df.columns.tolist())\n",
        "print(\"First row content:\", news_df['content'].iloc[0] if 'content' in news_df.columns else \"No content column\")"
      ],
      "metadata": {
        "colab": {
          "base_uri": "https://localhost:8080/"
        },
        "id": "DHXDzCIb8Grk",
        "outputId": "be0bfebc-ac0d-4a87-826f-b9fb97d84aba"
      },
      "execution_count": 2,
      "outputs": [
        {
          "output_type": "stream",
          "name": "stdout",
          "text": [
            "News data loaded: (212853, 18)\n",
            "Transfer data loaded: (20415, 13) (280334, 8) (151436, 19)\n",
            "Full news data loaded: (212853, 18)\n",
            "Columns: ['url', 'title', 'author', 'content', 'date', 'title_image', 'spider_type', 'summary', 'mini_summary_cn', 'keywords', 'summary_cn', 'title_cn', 'mini_summary', 'file_name', 'chunks', 'translations', 'video_generated', 'categories']\n",
            "First row content: <html><body><div><div class=\"sc-294a6039-6 fbDgKK article-content-container bodytext1\"><p><span>AC Milan head coach </span><span class=\"yKMVIe\" role=\"heading\" aria-level=\"1\">Stefano Pioli </span><span>says Rafael Leao is \u201cbecoming a champion\u201d as the winger helped his side progress to the Champions League semi-finals after overcoming Napoli.\u00a0</span></p><p><span>Following a 1-1 draw at </span><span>Stadio Diego Armando Maradona, Milan progressed to the semi-finals of the European competition after winning 2-1 across two legs.\u00a0</span></p><p><span>Leao, 23, produced a man of the match performance on the night and played a crucial role in the decisive goal as he burst past </span><span>Napoli\u2019s defence before unselfishly crossing for Olivier Giroud, who scored into an empty net. </span></p><p class=\"PyJv1b gsmt PZPZlf\" data-attrid=\"title\" data-hveid=\"CAkQAQ\"><span class=\"yKMVIe\" role=\"heading\" aria-level=\"1\">Victor Osimhen</span><span> pulled a goal back for Napoli late in the match, but it was not enough to overcome the seven-time Champions League winners.\u00a0</span></p><p><span>Speaking about Leao, Pioli said: \u201cWe\u2019re enjoying everything about Leao.</span></p><p><span>\u201cToday we asked him to help out more defensively and he did it. Rafa is becoming a champion and that\u2019s what he\u2019ll become.</span></p><p><span>\u201cIt\u2019s up to him, because for someone with that much talent and skill, both technically and physically, it\u2019s just a matter of how much effort he puts in.\u201d</span></p><p><span>Following their overall victory across two legs, Milan will be monitoring Wednesday\u2019s quarter-final between Inter Milan and Benfica, with the winners playing Pioli\u2019s side in the semi-finals.\u00a0</span></p><p><span>Inter currently have a two-goal advantage heading into the second leg, raising the prospects that a Milan derby could be on the cards for a place in the final.\u00a0</span></p><p><span>Pioli says that he would welcome a semi-final with his Milan rivals and also admitted his side will do everything they can to reach the final.\u00a0</span></p><p><span>\u201cIt would look like that (a semi-final with Inter), as Inter won the first leg so well,\u201d Pioli told Mediaset.</span></p><p><span>\u201cThese will be another two difficult, exciting and wonderful clashes in the Champions League. We\u2019ve done a great deal and don\u2019t want to stop now.\u201d</span></p><a href=\"https://theathletic.com/4426423/2023/04/19/rafael-leao-milan-napoli-champions-league/\" class=\"go-deeper\"><div class=\"go-deeper\"><div><p class=\"go-deeper-label\">GO DEEPER</p><p class=\"go-deeper-title\">Abuse Milan's Rafael Leao at your peril</p></div></div></a><p><em>(Photo: Getty Images)</em></p>\n",
            "</div></div></body></html>\n"
          ]
        }
      ]
    },
    {
      "cell_type": "code",
      "source": [
        "# Check missing values\n",
        "missing_values = news_df.isnull().sum()\n",
        "print(\"\\nMissing values in news_df:\")\n",
        "print(missing_values)\n",
        "\n",
        "# Percentage of missing values\n",
        "missing_percent = (news_df.isnull().sum() / len(news_df)) * 100\n",
        "print(\"\\nPercentage of missing values in news_df:\")\n",
        "print(missing_percent)"
      ],
      "metadata": {
        "colab": {
          "base_uri": "https://localhost:8080/"
        },
        "id": "_bgFNBGVAyBv",
        "outputId": "cf05e82e-48c8-450a-9567-221840a282fc"
      },
      "execution_count": 3,
      "outputs": [
        {
          "output_type": "stream",
          "name": "stdout",
          "text": [
            "\n",
            "Missing values in news_df:\n",
            "url                     0\n",
            "title                  23\n",
            "author                  0\n",
            "content                 0\n",
            "date                   91\n",
            "title_image        137512\n",
            "spider_type             0\n",
            "summary            140388\n",
            "mini_summary_cn    198069\n",
            "keywords           140388\n",
            "summary_cn         198068\n",
            "title_cn           140415\n",
            "mini_summary       147398\n",
            "file_name            9092\n",
            "chunks             148660\n",
            "translations       148660\n",
            "video_generated    206635\n",
            "categories          77847\n",
            "dtype: int64\n",
            "\n",
            "Percentage of missing values in news_df:\n",
            "url                 0.000000\n",
            "title               0.010806\n",
            "author              0.000000\n",
            "content             0.000000\n",
            "date                0.042753\n",
            "title_image        64.604210\n",
            "spider_type         0.000000\n",
            "summary            65.955378\n",
            "mini_summary_cn    93.054361\n",
            "keywords           65.955378\n",
            "summary_cn         93.053892\n",
            "title_cn           65.968062\n",
            "mini_summary       69.248730\n",
            "file_name           4.271493\n",
            "chunks             69.841628\n",
            "translations       69.841628\n",
            "video_generated    97.078735\n",
            "categories         36.573128\n",
            "dtype: float64\n"
          ]
        }
      ]
    },
    {
      "cell_type": "code",
      "source": [],
      "metadata": {
        "id": "uZkZqugCCG7e"
      },
      "execution_count": 3,
      "outputs": []
    },
    {
      "cell_type": "markdown",
      "source": [
        "## Preprocess News Data\n",
        "This cleans the news text and extracts player names from the full 212,853 rows.\n",
        "\n",
        "\n",
        "\n"
      ],
      "metadata": {
        "id": "avuUJfyRxCbe"
      }
    },
    {
      "cell_type": "code",
      "source": [
        "def preprocess_text(text):\n",
        "    \"\"\"Clean text by removing HTML, special chars, and extra spaces.\"\"\"\n",
        "    text = str(text)\n",
        "    text = BeautifulSoup(text, \"html.parser\").get_text()\n",
        "    text = re.sub(r'[^a-zA-Z0-9\\s]', '', text.lower())\n",
        "    return re.sub(r'\\s+', ' ', text).strip()"
      ],
      "metadata": {
        "id": "Az0d9uZmDUi4"
      },
      "execution_count": 4,
      "outputs": []
    },
    {
      "cell_type": "code",
      "source": [
        "def extract_player_name(text, player_list):\n",
        "    \"\"\"Extract first matching player name (case-insensitive).\"\"\"\n",
        "    text_lower = text.lower()  # To know if text is lowercase\n",
        "    for player in player_list:\n",
        "        if player.lower() in text_lower:  # Case insensitive match\n",
        "            return player\n",
        "    return None"
      ],
      "metadata": {
        "id": "wzX1A1PwDVXA"
      },
      "execution_count": 5,
      "outputs": []
    },
    {
      "cell_type": "code",
      "source": [
        "# Process full dataset\n",
        "print(\"Starting full cleaning...\")\n",
        "news_df['processed_text'] = news_df['content'].apply(preprocess_text)\n",
        "print(\"After cleaning, total rows:\", news_df.shape[0])"
      ],
      "metadata": {
        "colab": {
          "base_uri": "https://localhost:8080/"
        },
        "id": "TYqvxZ72DZmz",
        "outputId": "1fb3cb0b-d8cc-47ac-9eb5-2385023b04f7"
      },
      "execution_count": 6,
      "outputs": [
        {
          "output_type": "stream",
          "name": "stdout",
          "text": [
            "Starting full cleaning...\n",
            "After cleaning, total rows: 212853\n"
          ]
        }
      ]
    },
    {
      "cell_type": "code",
      "source": [
        "# Articles filter under 2000 characters\n",
        "news_df = news_df[news_df['processed_text'].str.len() < 2000]\n",
        "print(\"After length filter (<2000 chars):\", news_df.shape[0])\n",
        "news_df.dropna(subset=['processed_text'], inplace=True)\n",
        "print(\"After dropping NaN processed_text:\", news_df.shape[0])"
      ],
      "metadata": {
        "colab": {
          "base_uri": "https://localhost:8080/"
        },
        "id": "FeCeGtzgDdfv",
        "outputId": "546e94c2-4cef-4029-95fd-95e447e08f10"
      },
      "execution_count": 7,
      "outputs": [
        {
          "output_type": "stream",
          "name": "stdout",
          "text": [
            "After length filter (<2000 chars): 63328\n",
            "After dropping NaN processed_text: 63328\n"
          ]
        }
      ]
    },
    {
      "cell_type": "code",
      "source": [
        "# Player names Extraction\n",
        "player_names = transfer_df1['Name'].dropna().unique().tolist()\n",
        "print(\"Number of unique player names:\", len(player_names))\n",
        "print(\"Sample player names:\", player_names[:5])  # Show first 5 names"
      ],
      "metadata": {
        "colab": {
          "base_uri": "https://localhost:8080/"
        },
        "id": "4bXH6m0kDdPc",
        "outputId": "5e96f738-f314-4511-febb-45cee40a622c"
      },
      "execution_count": 8,
      "outputs": [
        {
          "output_type": "stream",
          "name": "stdout",
          "text": [
            "Number of unique player names: 19784\n",
            "Sample player names: ['Thibaut Courtois', 'Andriy Lunin', 'Kepa Arrizabalaga', '\u00c9der Milit\u00e3o', 'David Alaba']\n"
          ]
        }
      ]
    },
    {
      "cell_type": "code",
      "source": [
        "# Test on sample\n",
        "sample_df = news_df.head(1000).copy()\n",
        "sample_df['player_name'] = sample_df['processed_text'].apply(lambda x: extract_player_name(x, player_names))\n",
        "print(\"Sample rows with player matches:\", sample_df['player_name'].notna().sum())\n",
        "print(sample_df[['processed_text', 'player_name']].head(10))"
      ],
      "metadata": {
        "colab": {
          "base_uri": "https://localhost:8080/"
        },
        "id": "_ZCa8yRdDmtA",
        "outputId": "71d6a305-082a-4f9e-da00-9969ccc245c6"
      },
      "execution_count": 9,
      "outputs": [
        {
          "output_type": "stream",
          "name": "stdout",
          "text": [
            "Sample rows with player matches: 929\n",
            "                                       processed_text         player_name\n",
            "0   ac milan head coach stefano pioli says rafael ...      Olivier Giroud\n",
            "12  sevilla head coach jose luis mendilibar is not...       Harry Maguire\n",
            "15  manchester united forward marcus rashford has ...     Marcel Sabitzer\n",
            "24  manchester united manager erik ten hag wants h...       Harry Maguire\n",
            "25  manchester city midfielder bernardo silva says...      Joshua Kimmich\n",
            "38  inter milan head coach simone inzaghi has prai...               Portu\n",
            "45  chelsea will play wrexham in chapel hill north...               Portu\n",
            "53  fabio paraticis appeal against his ban from fo...                Mina\n",
            "77  imagealejandro garnacho portrait argentina fly...  Alejandro Garnacho\n",
            "89  leeds united head coach javi gracia says he is...         Tyler Adams\n"
          ]
        }
      ]
    },
    {
      "cell_type": "code",
      "source": [
        "# Run it in full\n",
        "news_df['player_name'] = news_df['processed_text'].apply(lambda x: extract_player_name(x, player_names))\n",
        "print(\"Rows with player matches:\", news_df['player_name'].notna().sum())"
      ],
      "metadata": {
        "colab": {
          "base_uri": "https://localhost:8080/"
        },
        "id": "pFF7GwEgDqHA",
        "outputId": "3dd29a6a-9beb-47c1-a816-06d815ad9027"
      },
      "execution_count": 10,
      "outputs": [
        {
          "output_type": "stream",
          "name": "stdout",
          "text": [
            "Rows with player matches: 56736\n"
          ]
        }
      ]
    },
    {
      "cell_type": "code",
      "source": [
        "# Keep rows with matches\n",
        "news_df.dropna(subset=['player_name'], inplace=True)\n",
        "print(\"News cleaned:\", news_df.shape)\n",
        "print(news_df[['player_name', 'processed_text']].head())"
      ],
      "metadata": {
        "colab": {
          "base_uri": "https://localhost:8080/"
        },
        "id": "DiAahtpyOHvm",
        "outputId": "80a49b19-a15b-4ad3-a2c2-b725c84d94db"
      },
      "execution_count": 11,
      "outputs": [
        {
          "output_type": "stream",
          "name": "stdout",
          "text": [
            "News cleaned: (56736, 20)\n",
            "        player_name                                     processed_text\n",
            "0    Olivier Giroud  ac milan head coach stefano pioli says rafael ...\n",
            "12    Harry Maguire  sevilla head coach jose luis mendilibar is not...\n",
            "15  Marcel Sabitzer  manchester united forward marcus rashford has ...\n",
            "24    Harry Maguire  manchester united manager erik ten hag wants h...\n",
            "25   Joshua Kimmich  manchester city midfielder bernardo silva says...\n"
          ]
        }
      ]
    },
    {
      "cell_type": "code",
      "source": [],
      "metadata": {
        "id": "5YQSR-1YOK2n"
      },
      "execution_count": 11,
      "outputs": []
    },
    {
      "cell_type": "markdown",
      "source": [
        "## Preprocess Transfer Data\n",
        "Purpose: Combine and clean the three transfer datasets into one DataFrame (transfer_df) with player details, latest transfer info, and highest market value"
      ],
      "metadata": {
        "id": "jPzJbb9Rasd6"
      }
    },
    {
      "cell_type": "code",
      "source": [
        "def clean_transfer_data(df1, df2, df3):\n",
        "    \"\"\"Clean and merge transfer datasets.\"\"\"\n",
        "    # Latest transfers from transfer history\n",
        "    df3['date'] = pd.to_datetime(df3['date'], errors='coerce')\n",
        "    latest_transfers = df3.sort_values('date', ascending=False).drop_duplicates('player_id', keep='first')\n",
        "\n",
        "    # Highest market values from market value development\n",
        "    df2['datum_mw'] = pd.to_datetime(df2['datum_mw'], errors='coerce')\n",
        "    highest_values = df2.sort_values('mw', ascending=False).drop_duplicates('player_id', keep='first')\n",
        "\n",
        "    # Merge player detail with highest values and latest transfers\n",
        "    transfer_df = df1.merge(highest_values, on='player_id', how='left')\n",
        "    transfer_df = transfer_df.merge(latest_transfers, on='player_id', how='left')\n",
        "\n",
        "    # Clean market value and fee columns\n",
        "    transfer_df['marketValue'] = transfer_df['marketValue'].fillna('\u20ac0').replace('-', '\u20ac0')\n",
        "    transfer_df['marketValue'] = transfer_df['marketValue'].replace({'\u20ac': '', 'm': '000000', 'k': '000'}, regex=True).astype(float)\n",
        "    transfer_df['fee'] = transfer_df['fee'].fillna('\u20ac0').replace('-', '\u20ac0')\n",
        "    transfer_df['fee_numeric'] = transfer_df['fee'].str.replace('\u20ac', '').str.replace('m', '000000').str.replace('k', '000')\n",
        "    transfer_df['fee_numeric'] = pd.to_numeric(transfer_df['fee_numeric'], errors='coerce').fillna(0)\n",
        "\n",
        "    # Drop negatives and NaNs\n",
        "    transfer_df = transfer_df[transfer_df['marketValue'] >= 0]\n",
        "    transfer_df.dropna(subset=['Name', 'player_id'], inplace=True)\n",
        "\n",
        "    return transfer_df"
      ],
      "metadata": {
        "id": "4Cg7M554a_jZ"
      },
      "execution_count": 12,
      "outputs": []
    },
    {
      "cell_type": "code",
      "source": [
        "# Clean transfer data\n",
        "transfer_df = clean_transfer_data(transfer_df1, transfer_df2, transfer_df3)\n",
        "print(\"Transfer data cleaned:\", transfer_df.shape)\n",
        "print(transfer_df[['Name', 'marketValue', 'fee_numeric']].head(10))"
      ],
      "metadata": {
        "colab": {
          "base_uri": "https://localhost:8080/"
        },
        "id": "yacWSy82cvoK",
        "outputId": "afb17e1f-6a58-49ab-d559-f72a2313b5f6"
      },
      "execution_count": 13,
      "outputs": [
        {
          "output_type": "stream",
          "name": "stdout",
          "text": [
            "Transfer data cleaned: (20415, 39)\n",
            "                Name  marketValue  fee_numeric\n",
            "0   Thibaut Courtois         65.0         35.0\n",
            "1       Andriy Lunin          2.7          0.0\n",
            "2  Kepa Arrizabalaga         12.0          0.0\n",
            "3       \u00c9der Milit\u00e3o         50.0         50.0\n",
            "4        David Alaba         55.0          0.0\n",
            "5    Antonio R\u00fcdiger         40.0          0.0\n",
            "6    Nacho Fern\u00e1ndez          1.5          0.0\n",
            "7      Ferland Mendy         30.0         48.0\n",
            "8        Fran Garc\u00eda         12.0          5.0\n",
            "9    Daniel Carvajal         10.0          6.5\n"
          ]
        }
      ]
    },
    {
      "cell_type": "code",
      "source": [],
      "metadata": {
        "id": "WWHM6l6AeeE-"
      },
      "execution_count": 13,
      "outputs": []
    },
    {
      "cell_type": "markdown",
      "source": [
        "## Sentiment Analysis & NLP\n",
        "Now, let\u2019s analyze the news articles for sentiment and entities. we crash proof here and saved because colab free kept crashing, so we partially save all the sentiment analysis."
      ],
      "metadata": {
        "id": "p4rhJGkFeeae"
      }
    },
    {
      "cell_type": "code",
      "source": [
        "# For colab crashing when running for all, so crash proof was implemented\n",
        "def get_sentiment(texts, model_name='finiteautomata/bertweet-base-sentiment-analysis', max_length=128):\n",
        "    tokenizer = AutoTokenizer.from_pretrained(model_name)\n",
        "    sentiment_pipeline = pipeline('sentiment-analysis', model=model_name, tokenizer=tokenizer)\n",
        "    sentiments = sentiment_pipeline(texts, max_length=max_length, truncation=True, padding=True, batch_size=16)\n",
        "    return [s['label'] for s in sentiments]"
      ],
      "metadata": {
        "id": "O9GTzt_RfDko"
      },
      "execution_count": 14,
      "outputs": []
    },
    {
      "cell_type": "code",
      "source": [
        "def extract_entities(text):\n",
        "    doc = nlp(text)\n",
        "    players = [ent.text for ent in doc.ents if ent.label_ == 'PERSON']\n",
        "    clubs = [ent.text for ent in doc.ents if ent.text not in {'Premier League', 'FIFA'} and ent.label_ == 'ORG']\n",
        "    return players, clubs"
      ],
      "metadata": {
        "id": "C8G-Ksz9fLFj"
      },
      "execution_count": 15,
      "outputs": []
    },
    {
      "cell_type": "code",
      "source": [
        "# Batch sentiment with error handling\n",
        "def batch_sentiment_with_save(df, chunk_size=1000, output_file='/content/drive/MyDrive/news_df_partial.csv'):\n",
        "    \"\"\"Process sentiment in chunks and save after each.\"\"\"\n",
        "    sentiments = []\n",
        "    for i in range(0, len(df), chunk_size):\n",
        "        chunk = df['processed_text'].iloc[i:i+chunk_size].tolist()\n",
        "        print(f\"Processing chunk {i//chunk_size + 1} of {len(df)//chunk_size + 1}\")\n",
        "        chunk = [str(t) if pd.notna(t) else \"\" for t in chunk]\n",
        "        if not chunk or all(t.strip() == \"\" for t in chunk):\n",
        "            print(f\"Chunk {i//chunk_size + 1} is empty or all blank!\")\n",
        "            sentiments.extend([\"NEU\"] * len(chunk))\n",
        "            continue\n",
        "        try:\n",
        "            chunk_sentiments = get_sentiment(chunk)\n",
        "            sentiments.extend(chunk_sentiments)\n",
        "            # Saving partial results incase colab crash\n",
        "            temp_df = df.iloc[:len(sentiments)].copy()\n",
        "            temp_df['sentiment'] = sentiments\n",
        "            temp_df.to_csv(output_file, index=False)\n",
        "            print(f\"Saved partial results up to chunk {i//chunk_size + 1}\")\n",
        "        except Exception as e:\n",
        "            print(f\"Error in chunk {i//chunk_size + 1}: {e}\")\n",
        "            sentiments.extend([\"NEU\"] * len(chunk))\n",
        "    return sentiments"
      ],
      "metadata": {
        "id": "Tbtr9TSifOry"
      },
      "execution_count": 16,
      "outputs": []
    },
    {
      "cell_type": "code",
      "source": [
        "# Subset 5,000 rows for analysis\n",
        "news_df_processed = news_df.sample(n=5000, random_state=42)\n",
        "print(\"Processed news_df shape:\", news_df_processed.shape)"
      ],
      "metadata": {
        "colab": {
          "base_uri": "https://localhost:8080/"
        },
        "id": "7IOqS1HrgDfz",
        "outputId": "b011898e-333e-4824-cc5d-6552f05826ee"
      },
      "execution_count": 17,
      "outputs": [
        {
          "output_type": "stream",
          "name": "stdout",
          "text": [
            "Processed news_df shape: (5000, 20)\n"
          ]
        }
      ]
    },
    {
      "cell_type": "code",
      "source": [
        "# Run sentiment with saving\n",
        "print(\"Starting sentiment analysis...\")\n",
        "news_df_processed['sentiment'] = batch_sentiment_with_save(news_df_processed, chunk_size=1000)\n",
        "print(\"Sentiment added:\", news_df_processed['sentiment'].value_counts())"
      ],
      "metadata": {
        "colab": {
          "base_uri": "https://localhost:8080/",
          "height": 775,
          "referenced_widgets": [
            "2cf5bded709844cabef506b041d006ee",
            "2f187ac4accd45e5ac727384e1542e8e",
            "7cc280a57d0f4fac8b9e3adcd62b1f51",
            "1cf545968c5449c69d8ee57f7667439e",
            "ea8c78a56b0f4c77a3a5e1bec992a251",
            "5d96e6a7656e48118fd6b5cde1ac7080",
            "07868d11dc9e49959784e010dc7eb6e1",
            "5855315010914746abeebfb0c13e8542",
            "be9ba100d7a0484e9115fd8a1a9cea32",
            "7e4380edd45e4307ad19523bac064169",
            "ecaf733e75d9454ba43a69561a1e2017",
            "25e5adc2b63648079b49e9a769e8847d",
            "621f69146ff343b99741542dbdd1215f",
            "b7c69893f2f74588b11970d88fb40483",
            "1c50cf312f444b0d886537a6dd783e74",
            "6efb52e12a8347578e40ec7a2c5bac34",
            "9b092fdaab6e488ea69e7a22ddf3ca52",
            "f2a9a20306f54f158cf75a39ff1d5340",
            "679c62f7c1b34be396b2ade6909f9a39",
            "cfae7a5b58d54245b278a600176d84f3",
            "353d1a4cc2444ef389ea076be71ae813",
            "62952f9f25e94621986423d7b2038948",
            "98575debb66e439db30be778b4bc82be",
            "fbcab049f742446e9d7bdfafeb2db472",
            "44718e068a91430ca43caf82bb2faf51",
            "f894fdfb101d49238810e657c4d51927",
            "50a73dd35bff4e909ab47a236d3df658",
            "3b0e945d4b8541969b07955e3cdd854d",
            "0e1a6cf296c1473ebb0ae855e78bc40c",
            "94732e9513de426dab818fff511475f9",
            "67098815670e4351b44be3afc48780d9",
            "3bfec573beb54e70862d470cc4ebca2c",
            "dd4317bf02ae4b5fa3e2d6d6f24df2a2",
            "6532d712ee8d41c9a0e515243b6639de",
            "75e667109d1a498087aee43450a3e7c2",
            "359a83d8cb28467fb1afa0f413a0d257",
            "d2e61047745648ed84bbd1a3611fd4a8",
            "ba74eba6b011475689294b86192ab4d0",
            "00f999e4f3bb4a0fa8d0373efcd1ab2c",
            "ddaf1d48beb745b8a2a9342b143fc5c2",
            "b259966176cb4310a957dda5b6a034f6",
            "fb2b7c71a7f5439790348fa0447c7ece",
            "9aab753c75be4c46903f97eb3b6de8d2",
            "5c02755d57784e83bf83378e93737122",
            "84709982c6f8488eb920980f0d74b404",
            "670ff76db1e24a7a9da16d5d6a4c1795",
            "a7206108aa974e80ba272746ca274d64",
            "3c7d1e28958b42a89c81aebb5fc0aa69",
            "d396625b1aaa4f86aa0bd9d994c29c74",
            "e78fbe057a924c5c88e676b75e4c4f3b",
            "63e39472e21e48a09626865a28ed76a0",
            "0905e339940342e2af214165782d8e51",
            "f5b20ecb0f024943b0671a1ad59a6ec1",
            "f6116f349da844eda5ff2d16e04bfbba",
            "2d2ac9b614174b1a859694ec3e684401",
            "db24544997aa42e793ec37b7c5fe2e0f",
            "feda3b3b8da2433794b06a26396a8987",
            "9198374dc76d4f6babf59e5fa7782427",
            "b6e49f4229664a5cb53c2bc2da8a5a40",
            "fb4fd58173b5443ca91604eef51f2faf",
            "faaee88bb89a460bb1db986e38d1ad7e",
            "3289eb9cdd1d43a0ab549776981ce10a",
            "21ff5c8026654d7ba8d28fd3b642ffe4",
            "58c361aef2e84280b1061878a71cf25d",
            "4e5f8d60f3c6497487e87435aa0295d5",
            "54e2af69464e4ba9b774f902460e47dd",
            "6aa4b994310a409fbe5ee415e181fc80",
            "9d16855e095646afb8507b2291e55c53",
            "8a414a86c5484568afb652c851eea39d",
            "3ea12eaee2c84bb0a0ce5c69289925bc",
            "cb6cfd4420f24e409a531dd50710305c",
            "9f0a78d2dd2d429fbcdd2b04a4ba81ff",
            "796c20fcbecf4dc8a75807f7d9c29ae0",
            "46187d3a63f248e8916787ac4d11779f",
            "2ce34bdeab2f4211bf96804ce8761b8b",
            "b80116c66c81438590a574b50ecfc746",
            "7a53257cfbca4ce9982b24bd170053e8",
            "73cd06291a9c4abea3969fa4ab782c15",
            "884b005927b74627bc7c9c7205ec493c",
            "cd43438addb34ce794a57a3b624bbc74",
            "7e93ab2523534abfa9975f11e66ec863",
            "336d79a693e942eeb018d67ae3d804b6",
            "3714fc61c09a4713879fa8e62c548334",
            "0aab5f2e058a48b197d77ae05722a4de",
            "1a8620ad123c4d398e359ef363045fd6",
            "8ad72f5fad9e4625bcfc48e24338438c",
            "ddb2884cc8434260b8c99bfdc709ee32",
            "cceb329c25924e0382174d707478cd7b"
          ]
        },
        "id": "qZAUTBbLfSPr",
        "outputId": "90f1c0da-d6c4-49c7-a7a0-cee3c90f0a67"
      },
      "execution_count": 18,
      "outputs": [
        {
          "output_type": "stream",
          "name": "stdout",
          "text": [
            "Starting sentiment analysis...\n",
            "Processing chunk 1 of 6\n"
          ]
        },
        {
          "output_type": "stream",
          "name": "stderr",
          "text": [
            "/usr/local/lib/python3.11/dist-packages/huggingface_hub/utils/_auth.py:94: UserWarning: \n",
            "The secret `HF_TOKEN` does not exist in your Colab secrets.\n",
            "To authenticate with the Hugging Face Hub, create a token in your settings tab (https://huggingface.co/settings/tokens), set it as secret in your Google Colab and restart your session.\n",
            "You will be able to reuse this secret in all of your notebooks.\n",
            "Please note that authentication is recommended but still optional to access public models or datasets.\n",
            "  warnings.warn(\n"
          ]
        },
        {
          "output_type": "display_data",
          "data": {
            "text/plain": [
              "tokenizer_config.json:   0%|          | 0.00/338 [00:00<?, ?B/s]"
            ],
            "application/vnd.jupyter.widget-view+json": {
              "version_major": 2,
              "version_minor": 0,
              "model_id": "2cf5bded709844cabef506b041d006ee"
            }
          },
          "metadata": {}
        },
        {
          "output_type": "display_data",
          "data": {
            "text/plain": [
              "vocab.txt:   0%|          | 0.00/843k [00:00<?, ?B/s]"
            ],
            "application/vnd.jupyter.widget-view+json": {
              "version_major": 2,
              "version_minor": 0,
              "model_id": "25e5adc2b63648079b49e9a769e8847d"
            }
          },
          "metadata": {}
        },
        {
          "output_type": "display_data",
          "data": {
            "text/plain": [
              "bpe.codes:   0%|          | 0.00/1.08M [00:00<?, ?B/s]"
            ],
            "application/vnd.jupyter.widget-view+json": {
              "version_major": 2,
              "version_minor": 0,
              "model_id": "98575debb66e439db30be778b4bc82be"
            }
          },
          "metadata": {}
        },
        {
          "output_type": "display_data",
          "data": {
            "text/plain": [
              "added_tokens.json:   0%|          | 0.00/22.0 [00:00<?, ?B/s]"
            ],
            "application/vnd.jupyter.widget-view+json": {
              "version_major": 2,
              "version_minor": 0,
              "model_id": "6532d712ee8d41c9a0e515243b6639de"
            }
          },
          "metadata": {}
        },
        {
          "output_type": "display_data",
          "data": {
            "text/plain": [
              "special_tokens_map.json:   0%|          | 0.00/167 [00:00<?, ?B/s]"
            ],
            "application/vnd.jupyter.widget-view+json": {
              "version_major": 2,
              "version_minor": 0,
              "model_id": "84709982c6f8488eb920980f0d74b404"
            }
          },
          "metadata": {}
        },
        {
          "output_type": "display_data",
          "data": {
            "text/plain": [
              "config.json:   0%|          | 0.00/949 [00:00<?, ?B/s]"
            ],
            "application/vnd.jupyter.widget-view+json": {
              "version_major": 2,
              "version_minor": 0,
              "model_id": "db24544997aa42e793ec37b7c5fe2e0f"
            }
          },
          "metadata": {}
        },
        {
          "output_type": "display_data",
          "data": {
            "text/plain": [
              "pytorch_model.bin:   0%|          | 0.00/540M [00:00<?, ?B/s]"
            ],
            "application/vnd.jupyter.widget-view+json": {
              "version_major": 2,
              "version_minor": 0,
              "model_id": "6aa4b994310a409fbe5ee415e181fc80"
            }
          },
          "metadata": {}
        },
        {
          "output_type": "stream",
          "name": "stderr",
          "text": [
            "Device set to use cpu\n"
          ]
        },
        {
          "output_type": "display_data",
          "data": {
            "text/plain": [
              "model.safetensors:   0%|          | 0.00/540M [00:00<?, ?B/s]"
            ],
            "application/vnd.jupyter.widget-view+json": {
              "version_major": 2,
              "version_minor": 0,
              "model_id": "73cd06291a9c4abea3969fa4ab782c15"
            }
          },
          "metadata": {}
        },
        {
          "output_type": "stream",
          "name": "stdout",
          "text": [
            "Saved partial results up to chunk 1\n",
            "Processing chunk 2 of 6\n"
          ]
        },
        {
          "output_type": "stream",
          "name": "stderr",
          "text": [
            "Device set to use cpu\n"
          ]
        },
        {
          "output_type": "stream",
          "name": "stdout",
          "text": [
            "Saved partial results up to chunk 2\n",
            "Processing chunk 3 of 6\n"
          ]
        },
        {
          "output_type": "stream",
          "name": "stderr",
          "text": [
            "Device set to use cpu\n"
          ]
        },
        {
          "output_type": "stream",
          "name": "stdout",
          "text": [
            "Saved partial results up to chunk 3\n",
            "Processing chunk 4 of 6\n"
          ]
        },
        {
          "output_type": "stream",
          "name": "stderr",
          "text": [
            "Device set to use cpu\n"
          ]
        },
        {
          "output_type": "stream",
          "name": "stdout",
          "text": [
            "Saved partial results up to chunk 4\n",
            "Processing chunk 5 of 6\n"
          ]
        },
        {
          "output_type": "stream",
          "name": "stderr",
          "text": [
            "Device set to use cpu\n"
          ]
        },
        {
          "output_type": "stream",
          "name": "stdout",
          "text": [
            "Saved partial results up to chunk 5\n",
            "Sentiment added: sentiment\n",
            "NEU    3556\n",
            "POS    1206\n",
            "NEG     238\n",
            "Name: count, dtype: int64\n"
          ]
        }
      ]
    },
    {
      "cell_type": "code",
      "source": [
        "print(\"Sentiment check:\", news_df_processed['sentiment'].value_counts())"
      ],
      "metadata": {
        "colab": {
          "base_uri": "https://localhost:8080/"
        },
        "id": "YiiG945Dkv2J",
        "outputId": "9717a724-1269-49de-ac14-a672fc6c78ab"
      },
      "execution_count": 19,
      "outputs": [
        {
          "output_type": "stream",
          "name": "stdout",
          "text": [
            "Sentiment check: sentiment\n",
            "NEU    3556\n",
            "POS    1206\n",
            "NEG     238\n",
            "Name: count, dtype: int64\n"
          ]
        }
      ]
    },
    {
      "cell_type": "code",
      "source": [
        "# Extraction entity with NaN handling\n",
        "def extract_entities(text):\n",
        "    # Convert NaN/float to empty string\n",
        "    if pd.isna(text):\n",
        "        return [], []  # Return empty lists for players and clubs\n",
        "    doc = nlp(text)\n",
        "    players = [ent.text for ent in doc.ents if ent.label_ == 'PERSON']\n",
        "    clubs = [ent.text for ent in doc.ents if ent.text not in {'Premier League', 'FIFA'} and ent.label_ == 'ORG']\n",
        "    return players, clubs"
      ],
      "metadata": {
        "id": "XOBtv-j7T6CF"
      },
      "execution_count": 20,
      "outputs": []
    },
    {
      "cell_type": "code",
      "source": [
        "print(\"Extracting entities from titles...\")\n",
        "news_df_processed[['player_entities', 'club_entities']] = news_df_processed['title'].apply(lambda x: pd.Series(extract_entities(x)))\n",
        "print(news_df_processed[['title', 'player_entities', 'club_entities']].head())"
      ],
      "metadata": {
        "colab": {
          "base_uri": "https://localhost:8080/"
        },
        "id": "XDmf17MLkVsP",
        "outputId": "4f051a34-41f9-4f32-afb6-379edbe95343"
      },
      "execution_count": 21,
      "outputs": [
        {
          "output_type": "stream",
          "name": "stdout",
          "text": [
            "Extracting entities from titles...\n",
            "                                                    title  \\\n",
            "9464    Varane named Man United captain vs Lyon in fir...   \n",
            "188597  Brighton confirm departure of former Man Unite...   \n",
            "164870  QPR keen to bring back Aston Villa man, report...   \n",
            "40860     \u2018City well beaten and should have lost by more\u2019   \n",
            "73523   Rodri makes 'scared' Man City claim and names ...   \n",
            "\n",
            "                player_entities                    club_entities  \n",
            "9464    [Varane, Lyon, Maguire]                     [Man United]  \n",
            "188597                       []  [Brighton, Man United, Chelsea]  \n",
            "164870                       []                    [Aston Villa]  \n",
            "40860                        []                               []  \n",
            "73523                   [Rodri]              [Man City, Chelsea]  \n"
          ]
        }
      ]
    },
    {
      "cell_type": "code",
      "source": [
        "# verify and Saving\n",
        "print(\"Sentiment check:\", news_df_processed['sentiment'].value_counts())\n",
        "print(\"Final shape:\", news_df_processed.shape)\n",
        "\n",
        "# Final save\n",
        "news_df_processed.to_csv('/content/drive/MyDrive/news_df_processed_with_sentiment_and_entities.csv', index=False)\n",
        "print(\"Saved processed news_df with sentiment and entities to Google Drive!\")"
      ],
      "metadata": {
        "colab": {
          "base_uri": "https://localhost:8080/"
        },
        "id": "6O8Ha5vnol0X",
        "outputId": "8a218bc6-eecf-4933-f074-0228b089b2fb"
      },
      "execution_count": 22,
      "outputs": [
        {
          "output_type": "stream",
          "name": "stdout",
          "text": [
            "Sentiment check: sentiment\n",
            "NEU    3556\n",
            "POS    1206\n",
            "NEG     238\n",
            "Name: count, dtype: int64\n",
            "Final shape: (5000, 23)\n",
            "Saved processed news_df with sentiment and entities to Google Drive!\n"
          ]
        }
      ]
    },
    {
      "cell_type": "code",
      "source": [],
      "metadata": {
        "id": "ot3CLvB3UJdq"
      },
      "execution_count": null,
      "outputs": []
    },
    {
      "cell_type": "markdown",
      "source": [
        "## Merge and Recommend\n",
        "Now we\u2019ll merge news_df_processed with transfer_df and find undervalued players."
      ],
      "metadata": {
        "id": "68m7nfECq1ab"
      }
    },
    {
      "cell_type": "code",
      "source": [],
      "metadata": {
        "id": "yKnyed73m1Kd"
      },
      "execution_count": null,
      "outputs": []
    },
    {
      "cell_type": "code",
      "source": [
        "import pandas as pd\n",
        "from google.colab import drive\n",
        "drive.mount('/content/drive', force_remount=True)\n",
        "\n",
        "# Load data\n",
        "news_df_processed = pd.read_csv('/content/drive/MyDrive/news_df_processed_with_sentiment_and_entities.csv', low_memory=False)\n",
        "player_detail = pd.read_csv('/content/drive/MyDrive/Dataset/Dataset/Transfer History/player_detail.csv', low_memory=False)\n",
        "transfer_history = pd.read_csv('/content/drive/MyDrive/Dataset/Dataset/Transfer History/tm_player_transfer_history.csv', low_memory=False)\n",
        "market_values = pd.read_csv('/content/drive/MyDrive/Dataset/Dataset/Transfer History/tm_player_market_value_development.csv', low_memory=False)"
      ],
      "metadata": {
        "colab": {
          "base_uri": "https://localhost:8080/"
        },
        "id": "QimpvyJwJQBM",
        "outputId": "156c8313-30cb-4f79-a49c-883c72e3ef3e"
      },
      "execution_count": 1,
      "outputs": [
        {
          "output_type": "stream",
          "name": "stdout",
          "text": [
            "Mounted at /content/drive\n"
          ]
        }
      ]
    },
    {
      "cell_type": "code",
      "source": [
        "import matplotlib.pyplot as plt\n",
        "import seaborn as sns\n",
        "from sklearn.linear_model import LinearRegression\n",
        "from sklearn.ensemble import RandomForestRegressor, GradientBoostingRegressor, VotingRegressor\n",
        "from sklearn.model_selection import train_test_split\n",
        "from sklearn.metrics import mean_squared_error, r2_score\n",
        "from sklearn.preprocessing import LabelEncoder"
      ],
      "metadata": {
        "id": "2-Dr1zhdmlav"
      },
      "execution_count": 2,
      "outputs": []
    },
    {
      "cell_type": "code",
      "source": [],
      "metadata": {
        "id": "OvCbfsCKmscC"
      },
      "execution_count": null,
      "outputs": []
    },
    {
      "cell_type": "code",
      "source": [
        "def merge_data(news_df, player_df, transfer_df, value_df):\n",
        "    transfer_df = transfer_df[(transfer_df['date'] >= '2022-01-01') & (transfer_df['date'] <= '2024-12-31')]\n",
        "    print(\"Filtered transfer_history shape (2022-2024):\", transfer_df.shape)\n",
        "    news_df['player_match'] = news_df['player_entities'].apply(lambda x: eval(x)[0] if eval(x) else None)\n",
        "    merged_temp1 = news_df.merge(player_df[['Name', 'player_id']], left_on='player_match', right_on='Name', how='inner')\n",
        "    merged_temp2 = merged_temp1.merge(transfer_df[['player_id', 'Transfer Fee', 'to_clubName', 'date']], on='player_id', how='inner')\n",
        "    value_df = value_df.sort_values('datum_mw', ascending=False).drop_duplicates('player_id')\n",
        "    merged_df = merged_temp2.merge(value_df[['player_id', 'mw']], on='player_id', how='inner')\n",
        "    merged_df.drop_duplicates(subset=['player_id'], inplace=True)\n",
        "    merged_df.dropna(subset=['Transfer Fee', 'mw'], inplace=True)\n",
        "    return merged_df"
      ],
      "metadata": {
        "id": "pXeL_sVTJP9s"
      },
      "execution_count": 3,
      "outputs": []
    },
    {
      "cell_type": "code",
      "source": [
        "def recommend_players(df):\n",
        "    undervalued = df[(df['sentiment'] == 'POS') & (df['mw'] < df['Transfer Fee']) & (df['mw'] > 1000000)]\n",
        "    undervalued['overpayment'] = undervalued['Transfer Fee'] - undervalued['mw']\n",
        "    # Add basic summaries\n",
        "    undervalued['situation'] = undervalued.apply(\n",
        "        lambda row: f\"{row['player_match']}: Transferred to {row['to_clubName']} for \u20ac{row['Transfer Fee']/1e6:.1f}M in {row['date_y'][:4]}, now valued at \u20ac{row['mw']/1e6:.1f}M. Positive news suggests untapped potential despite \u20ac{row['overpayment']/1e6:.1f}M overpayment.\", axis=1)\n",
        "    return undervalued[['player_match', 'player_id', 'mw', 'Transfer Fee', 'overpayment', 'sentiment', 'to_clubName', 'date_y', 'situation']].sort_values('overpayment', ascending=False)"
      ],
      "metadata": {
        "id": "hti6R9FaJP6b"
      },
      "execution_count": 4,
      "outputs": []
    },
    {
      "cell_type": "code",
      "source": [
        "merged_df = merge_data(news_df_processed, player_detail, transfer_history, market_values)\n",
        "print(\"Merged data shape:\", merged_df.shape)\n",
        "print(merged_df[['player_match', 'player_id', 'sentiment', 'mw', 'Transfer Fee', 'date_y']].head())\n",
        "recommendations = recommend_players(merged_df)\n",
        "print(\"Recommended players (2022-2024, ranked with summaries):\")\n",
        "print(recommendations)"
      ],
      "metadata": {
        "colab": {
          "base_uri": "https://localhost:8080/"
        },
        "id": "bS-9qs2RJP3M",
        "outputId": "b9db2cb6-9285-4308-f101-124f3a98703d"
      },
      "execution_count": 5,
      "outputs": [
        {
          "output_type": "stream",
          "name": "stdout",
          "text": [
            "Filtered transfer_history shape (2022-2024): (38419, 19)\n",
            "Merged data shape: (219, 30)\n",
            "     player_match  player_id sentiment          mw  Transfer Fee      date_y\n",
            "0       Dele Alli     207929       NEU   5000000.0           0.0  2023-06-30\n",
            "3     Tyler Adams     332705       NEU  18000000.0    26900000.0  2023-08-20\n",
            "5   Carlos Baleba     973085       POS  20000000.0    27000000.0  2023-08-29\n",
            "8  Tyrell Malacia     339340       NEG  18000000.0    15000000.0  2022-07-05\n",
            "9   Scott McKenna     255906       NEU  10000000.0           0.0  2024-06-30\n",
            "Recommended players (2022-2024, ranked with summaries):\n",
            "           player_match  player_id          mw  Transfer Fee  overpayment  \\\n",
            "37               Antony     602105  28000000.0    95000000.0   67000000.0   \n",
            "871      Marc Cucurella     284857  25000000.0    65300000.0   40300000.0   \n",
            "976       Ferran Torres     398184  35000000.0    55000000.0   20000000.0   \n",
            "565         Lucas Digne     126664  12000000.0    30000000.0   18000000.0   \n",
            "980          Lewis Hall     670858  18000000.0    32500000.0   14500000.0   \n",
            "326       Matheus Nunes     601883  50000000.0    62000000.0   12000000.0   \n",
            "87      Raheem Sterling     134425  45000000.0    56200000.0   11200000.0   \n",
            "1051         Sacha Boey     475413  22000000.0    30000000.0    8000000.0   \n",
            "5         Carlos Baleba     973085  20000000.0    27000000.0    7000000.0   \n",
            "709      Cameron Archer     533662  15000000.0    21550000.0    6550000.0   \n",
            "927       Calvin Bassey     461883  16000000.0    22500000.0    6500000.0   \n",
            "238        Cyril Ngonge     358032  12000000.0    18000000.0    6000000.0   \n",
            "909     Jovan Mijatovic     673432   6000000.0     8000000.0    2000000.0   \n",
            "93         Aaron Ramsey     646658  15000000.0    16450000.0    1450000.0   \n",
            "1135       Adam Wharton     744149  20000000.0    21100000.0    1100000.0   \n",
            "287   Emiliano Mart\u00ednez     707447   4000000.0     5000000.0    1000000.0   \n",
            "38               Antony     798687   2500000.0     3200000.0     700000.0   \n",
            "\n",
            "     sentiment     to_clubName      date_y  \\\n",
            "37         POS         Man Utd  2022-08-30   \n",
            "871        POS         Chelsea  2022-08-05   \n",
            "976        POS       Barcelona  2022-01-01   \n",
            "565        POS     Aston Villa  2022-01-13   \n",
            "980        POS       Newcastle  2024-07-01   \n",
            "326        POS        Man City  2023-09-01   \n",
            "87         POS         Chelsea  2022-07-13   \n",
            "1051       POS   Bayern Munich  2024-01-28   \n",
            "5          POS        Brighton  2023-08-29   \n",
            "709        POS       Sheff Utd  2023-08-27   \n",
            "927        POS          Fulham  2023-07-28   \n",
            "238        POS      SSC Napoli  2024-01-19   \n",
            "909        POS   New York City  2024-02-19   \n",
            "93         POS         Burnley  2023-08-22   \n",
            "1135       POS  Crystal Palace  2024-02-01   \n",
            "287        POS  FC Midtjylland  2023-01-01   \n",
            "38         POS        Portland  2023-08-02   \n",
            "\n",
            "                                              situation  \n",
            "37    Antony: Transferred to Man Utd for \u20ac95.0M in 2...  \n",
            "871   Marc Cucurella: Transferred to Chelsea for \u20ac65...  \n",
            "976   Ferran Torres: Transferred to Barcelona for \u20ac5...  \n",
            "565   Lucas Digne: Transferred to Aston Villa for \u20ac3...  \n",
            "980   Lewis Hall: Transferred to Newcastle for \u20ac32.5...  \n",
            "326   Matheus Nunes: Transferred to Man City for \u20ac62...  \n",
            "87    Raheem Sterling: Transferred to Chelsea for \u20ac5...  \n",
            "1051  Sacha Boey: Transferred to Bayern Munich for \u20ac...  \n",
            "5     Carlos Baleba: Transferred to Brighton for \u20ac27...  \n",
            "709   Cameron Archer: Transferred to Sheff Utd for \u20ac...  \n",
            "927   Calvin Bassey: Transferred to Fulham for \u20ac22.5...  \n",
            "238   Cyril Ngonge: Transferred to SSC Napoli for \u20ac1...  \n",
            "909   Jovan Mijatovic: Transferred to New York City ...  \n",
            "93    Aaron Ramsey: Transferred to Burnley for \u20ac16.4...  \n",
            "1135  Adam Wharton: Transferred to Crystal Palace fo...  \n",
            "287   Emiliano Mart\u00ednez: Transferred to FC Midtjylla...  \n",
            "38    Antony: Transferred to Portland for \u20ac3.2M in 2...  \n"
          ]
        },
        {
          "output_type": "stream",
          "name": "stderr",
          "text": [
            "<ipython-input-4-08329c8cd930>:3: SettingWithCopyWarning: \n",
            "A value is trying to be set on a copy of a slice from a DataFrame.\n",
            "Try using .loc[row_indexer,col_indexer] = value instead\n",
            "\n",
            "See the caveats in the documentation: https://pandas.pydata.org/pandas-docs/stable/user_guide/indexing.html#returning-a-view-versus-a-copy\n",
            "  undervalued['overpayment'] = undervalued['Transfer Fee'] - undervalued['mw']\n",
            "<ipython-input-4-08329c8cd930>:5: SettingWithCopyWarning: \n",
            "A value is trying to be set on a copy of a slice from a DataFrame.\n",
            "Try using .loc[row_indexer,col_indexer] = value instead\n",
            "\n",
            "See the caveats in the documentation: https://pandas.pydata.org/pandas-docs/stable/user_guide/indexing.html#returning-a-view-versus-a-copy\n",
            "  undervalued['situation'] = undervalued.apply(\n"
          ]
        }
      ]
    },
    {
      "cell_type": "code",
      "source": [],
      "metadata": {
        "id": "mOzGUV9TnncZ"
      },
      "execution_count": null,
      "outputs": []
    },
    {
      "cell_type": "markdown",
      "source": [
        "## Patterns"
      ],
      "metadata": {
        "id": "IcFHVBSZdf3X"
      }
    },
    {
      "cell_type": "code",
      "source": [
        "# Analysis Pattern\n",
        "patterns = {\n",
        "    \"POS + Overpayment\": len(recommendations),\n",
        "    \"NEG + mw < fee\": len(merged_df[(merged_df['sentiment'] == 'NEG') & (merged_df['mw'] < merged_df['Transfer Fee'])]),\n",
        "    \"POS + mw > fee\": len(merged_df[(merged_df['sentiment'] == 'POS') & (merged_df['mw'] > merged_df['Transfer Fee'])]),\n",
        "}\n",
        "print(\"Patterns identified:\")\n",
        "for pattern, count in patterns.items():\n",
        "    print(f\"{pattern}: {count} players\")"
      ],
      "metadata": {
        "colab": {
          "base_uri": "https://localhost:8080/"
        },
        "id": "pbmM17ohJPz5",
        "outputId": "07c56fb0-fe5b-4c9e-f3ef-c97b0e2622f1"
      },
      "execution_count": 6,
      "outputs": [
        {
          "output_type": "stream",
          "name": "stdout",
          "text": [
            "Patterns identified:\n",
            "POS + Overpayment: 17 players\n",
            "NEG + mw < fee: 1 players\n",
            "POS + mw > fee: 40 players\n"
          ]
        }
      ]
    },
    {
      "cell_type": "code",
      "source": [],
      "metadata": {
        "id": "bICd5WDQn2e0"
      },
      "execution_count": null,
      "outputs": []
    },
    {
      "cell_type": "markdown",
      "source": [
        "## Regression Analysis\n"
      ],
      "metadata": {
        "id": "LmHIiYTnoOdl"
      }
    },
    {
      "cell_type": "code",
      "source": [
        "def prepare_regression_data(df):\n",
        "    # Initialize LabelEncoder\n",
        "    le = LabelEncoder()\n",
        "\n",
        "    # Encode categorical variables\n",
        "    df['sentiment_encoded'] = le.fit_transform(df['sentiment'])\n",
        "    df['club_encoded'] = le.fit_transform(df['to_clubName'].fillna('Unknown'))  # Handle NaN with 'Unknown'\n",
        "\n",
        "    # Extract year from date_y (assuming it's a string like '2022-07-01')\n",
        "    df['year'] = pd.to_datetime(df['date_y'], errors='coerce').dt.year.fillna(2022).astype(int)  # fill with 2022 if NaN\n",
        "\n",
        "    # Define features and target\n",
        "    features = ['mw', 'sentiment_encoded', 'club_encoded', 'year']\n",
        "    target = 'Transfer Fee'\n",
        "\n",
        "    # Create feature matrix X and target vector y\n",
        "    X = df[features]\n",
        "    y = df[target]\n",
        "\n",
        "    # Check for NaN in X or y\n",
        "    X = X.fillna(0)  # Replace NaN with 0 for simplicity (could use mean/median instead)\n",
        "    y = y.fillna(y.mean())  # Replace NaN in target with mean\n",
        "\n",
        "    return X, y, le"
      ],
      "metadata": {
        "id": "5qkX0FlPuRDY"
      },
      "execution_count": 7,
      "outputs": []
    },
    {
      "cell_type": "code",
      "source": [
        "# Data Spliting\n",
        "X, y, label_encoder = prepare_regression_data(merged_df)\n",
        "print(\"Features used in regression:\", X.columns.tolist())\n",
        "print(\"Feature sample:\\n\", X.head())\n",
        "X_train, X_test, y_train, y_test = train_test_split(X, y, test_size=0.2, random_state=42)"
      ],
      "metadata": {
        "colab": {
          "base_uri": "https://localhost:8080/"
        },
        "id": "-tnO4AhmucZm",
        "outputId": "4445b6ff-04fe-4d6a-c52d-e866fbc44eb4"
      },
      "execution_count": 8,
      "outputs": [
        {
          "output_type": "stream",
          "name": "stdout",
          "text": [
            "Features used in regression: ['mw', 'sentiment_encoded', 'club_encoded', 'year']\n",
            "Feature sample:\n",
            "            mw  sentiment_encoded  club_encoded  year\n",
            "0   5000000.0                  1            33  2023\n",
            "3  18000000.0                  1            20  2023\n",
            "5  20000000.0                  2            22  2023\n",
            "8  18000000.0                  0            60  2022\n",
            "9  10000000.0                  1            67  2024\n"
          ]
        }
      ]
    },
    {
      "cell_type": "code",
      "source": [
        "# Models Initialization\n",
        "lr_model = LinearRegression()\n",
        "rf_model = RandomForestRegressor(n_estimators=100, random_state=42)\n",
        "gb_model = GradientBoostingRegressor(n_estimators=100, random_state=42)\n",
        "ensemble_model = VotingRegressor(estimators=[('lr', lr_model), ('rf', rf_model), ('gb', gb_model)])"
      ],
      "metadata": {
        "id": "ZhmFgdKWul_n"
      },
      "execution_count": 9,
      "outputs": []
    },
    {
      "cell_type": "code",
      "source": [
        "# Train models\n",
        "print(\"Training regression models...\")\n",
        "lr_model.fit(X_train, y_train)\n",
        "rf_model.fit(X_train, y_train)\n",
        "gb_model.fit(X_train, y_train)\n",
        "ensemble_model.fit(X_train, y_train)"
      ],
      "metadata": {
        "colab": {
          "base_uri": "https://localhost:8080/",
          "height": 177
        },
        "id": "TQgTTqyKur9v",
        "outputId": "945fffe6-799b-4f98-dbf2-a1d150c55c49"
      },
      "execution_count": 10,
      "outputs": [
        {
          "output_type": "stream",
          "name": "stdout",
          "text": [
            "Training regression models...\n"
          ]
        },
        {
          "output_type": "execute_result",
          "data": {
            "text/plain": [
              "VotingRegressor(estimators=[('lr', LinearRegression()),\n",
              "                            ('rf', RandomForestRegressor(random_state=42)),\n",
              "                            ('gb', GradientBoostingRegressor(random_state=42))])"
            ],
            "text/html": [
              "<style>#sk-container-id-1 {\n",
              "  /* Definition of color scheme common for light and dark mode */\n",
              "  --sklearn-color-text: #000;\n",
              "  --sklearn-color-text-muted: #666;\n",
              "  --sklearn-color-line: gray;\n",
              "  /* Definition of color scheme for unfitted estimators */\n",
              "  --sklearn-color-unfitted-level-0: #fff5e6;\n",
              "  --sklearn-color-unfitted-level-1: #f6e4d2;\n",
              "  --sklearn-color-unfitted-level-2: #ffe0b3;\n",
              "  --sklearn-color-unfitted-level-3: chocolate;\n",
              "  /* Definition of color scheme for fitted estimators */\n",
              "  --sklearn-color-fitted-level-0: #f0f8ff;\n",
              "  --sklearn-color-fitted-level-1: #d4ebff;\n",
              "  --sklearn-color-fitted-level-2: #b3dbfd;\n",
              "  --sklearn-color-fitted-level-3: cornflowerblue;\n",
              "\n",
              "  /* Specific color for light theme */\n",
              "  --sklearn-color-text-on-default-background: var(--sg-text-color, var(--theme-code-foreground, var(--jp-content-font-color1, black)));\n",
              "  --sklearn-color-background: var(--sg-background-color, var(--theme-background, var(--jp-layout-color0, white)));\n",
              "  --sklearn-color-border-box: var(--sg-text-color, var(--theme-code-foreground, var(--jp-content-font-color1, black)));\n",
              "  --sklearn-color-icon: #696969;\n",
              "\n",
              "  @media (prefers-color-scheme: dark) {\n",
              "    /* Redefinition of color scheme for dark theme */\n",
              "    --sklearn-color-text-on-default-background: var(--sg-text-color, var(--theme-code-foreground, var(--jp-content-font-color1, white)));\n",
              "    --sklearn-color-background: var(--sg-background-color, var(--theme-background, var(--jp-layout-color0, #111)));\n",
              "    --sklearn-color-border-box: var(--sg-text-color, var(--theme-code-foreground, var(--jp-content-font-color1, white)));\n",
              "    --sklearn-color-icon: #878787;\n",
              "  }\n",
              "}\n",
              "\n",
              "#sk-container-id-1 {\n",
              "  color: var(--sklearn-color-text);\n",
              "}\n",
              "\n",
              "#sk-container-id-1 pre {\n",
              "  padding: 0;\n",
              "}\n",
              "\n",
              "#sk-container-id-1 input.sk-hidden--visually {\n",
              "  border: 0;\n",
              "  clip: rect(1px 1px 1px 1px);\n",
              "  clip: rect(1px, 1px, 1px, 1px);\n",
              "  height: 1px;\n",
              "  margin: -1px;\n",
              "  overflow: hidden;\n",
              "  padding: 0;\n",
              "  position: absolute;\n",
              "  width: 1px;\n",
              "}\n",
              "\n",
              "#sk-container-id-1 div.sk-dashed-wrapped {\n",
              "  border: 1px dashed var(--sklearn-color-line);\n",
              "  margin: 0 0.4em 0.5em 0.4em;\n",
              "  box-sizing: border-box;\n",
              "  padding-bottom: 0.4em;\n",
              "  background-color: var(--sklearn-color-background);\n",
              "}\n",
              "\n",
              "#sk-container-id-1 div.sk-container {\n",
              "  /* jupyter's `normalize.less` sets `[hidden] { display: none; }`\n",
              "     but bootstrap.min.css set `[hidden] { display: none !important; }`\n",
              "     so we also need the `!important` here to be able to override the\n",
              "     default hidden behavior on the sphinx rendered scikit-learn.org.\n",
              "     See: https://github.com/scikit-learn/scikit-learn/issues/21755 */\n",
              "  display: inline-block !important;\n",
              "  position: relative;\n",
              "}\n",
              "\n",
              "#sk-container-id-1 div.sk-text-repr-fallback {\n",
              "  display: none;\n",
              "}\n",
              "\n",
              "div.sk-parallel-item,\n",
              "div.sk-serial,\n",
              "div.sk-item {\n",
              "  /* draw centered vertical line to link estimators */\n",
              "  background-image: linear-gradient(var(--sklearn-color-text-on-default-background), var(--sklearn-color-text-on-default-background));\n",
              "  background-size: 2px 100%;\n",
              "  background-repeat: no-repeat;\n",
              "  background-position: center center;\n",
              "}\n",
              "\n",
              "/* Parallel-specific style estimator block */\n",
              "\n",
              "#sk-container-id-1 div.sk-parallel-item::after {\n",
              "  content: \"\";\n",
              "  width: 100%;\n",
              "  border-bottom: 2px solid var(--sklearn-color-text-on-default-background);\n",
              "  flex-grow: 1;\n",
              "}\n",
              "\n",
              "#sk-container-id-1 div.sk-parallel {\n",
              "  display: flex;\n",
              "  align-items: stretch;\n",
              "  justify-content: center;\n",
              "  background-color: var(--sklearn-color-background);\n",
              "  position: relative;\n",
              "}\n",
              "\n",
              "#sk-container-id-1 div.sk-parallel-item {\n",
              "  display: flex;\n",
              "  flex-direction: column;\n",
              "}\n",
              "\n",
              "#sk-container-id-1 div.sk-parallel-item:first-child::after {\n",
              "  align-self: flex-end;\n",
              "  width: 50%;\n",
              "}\n",
              "\n",
              "#sk-container-id-1 div.sk-parallel-item:last-child::after {\n",
              "  align-self: flex-start;\n",
              "  width: 50%;\n",
              "}\n",
              "\n",
              "#sk-container-id-1 div.sk-parallel-item:only-child::after {\n",
              "  width: 0;\n",
              "}\n",
              "\n",
              "/* Serial-specific style estimator block */\n",
              "\n",
              "#sk-container-id-1 div.sk-serial {\n",
              "  display: flex;\n",
              "  flex-direction: column;\n",
              "  align-items: center;\n",
              "  background-color: var(--sklearn-color-background);\n",
              "  padding-right: 1em;\n",
              "  padding-left: 1em;\n",
              "}\n",
              "\n",
              "\n",
              "/* Toggleable style: style used for estimator/Pipeline/ColumnTransformer box that is\n",
              "clickable and can be expanded/collapsed.\n",
              "- Pipeline and ColumnTransformer use this feature and define the default style\n",
              "- Estimators will overwrite some part of the style using the `sk-estimator` class\n",
              "*/\n",
              "\n",
              "/* Pipeline and ColumnTransformer style (default) */\n",
              "\n",
              "#sk-container-id-1 div.sk-toggleable {\n",
              "  /* Default theme specific background. It is overwritten whether we have a\n",
              "  specific estimator or a Pipeline/ColumnTransformer */\n",
              "  background-color: var(--sklearn-color-background);\n",
              "}\n",
              "\n",
              "/* Toggleable label */\n",
              "#sk-container-id-1 label.sk-toggleable__label {\n",
              "  cursor: pointer;\n",
              "  display: flex;\n",
              "  width: 100%;\n",
              "  margin-bottom: 0;\n",
              "  padding: 0.5em;\n",
              "  box-sizing: border-box;\n",
              "  text-align: center;\n",
              "  align-items: start;\n",
              "  justify-content: space-between;\n",
              "  gap: 0.5em;\n",
              "}\n",
              "\n",
              "#sk-container-id-1 label.sk-toggleable__label .caption {\n",
              "  font-size: 0.6rem;\n",
              "  font-weight: lighter;\n",
              "  color: var(--sklearn-color-text-muted);\n",
              "}\n",
              "\n",
              "#sk-container-id-1 label.sk-toggleable__label-arrow:before {\n",
              "  /* Arrow on the left of the label */\n",
              "  content: \"\u25b8\";\n",
              "  float: left;\n",
              "  margin-right: 0.25em;\n",
              "  color: var(--sklearn-color-icon);\n",
              "}\n",
              "\n",
              "#sk-container-id-1 label.sk-toggleable__label-arrow:hover:before {\n",
              "  color: var(--sklearn-color-text);\n",
              "}\n",
              "\n",
              "/* Toggleable content - dropdown */\n",
              "\n",
              "#sk-container-id-1 div.sk-toggleable__content {\n",
              "  max-height: 0;\n",
              "  max-width: 0;\n",
              "  overflow: hidden;\n",
              "  text-align: left;\n",
              "  /* unfitted */\n",
              "  background-color: var(--sklearn-color-unfitted-level-0);\n",
              "}\n",
              "\n",
              "#sk-container-id-1 div.sk-toggleable__content.fitted {\n",
              "  /* fitted */\n",
              "  background-color: var(--sklearn-color-fitted-level-0);\n",
              "}\n",
              "\n",
              "#sk-container-id-1 div.sk-toggleable__content pre {\n",
              "  margin: 0.2em;\n",
              "  border-radius: 0.25em;\n",
              "  color: var(--sklearn-color-text);\n",
              "  /* unfitted */\n",
              "  background-color: var(--sklearn-color-unfitted-level-0);\n",
              "}\n",
              "\n",
              "#sk-container-id-1 div.sk-toggleable__content.fitted pre {\n",
              "  /* unfitted */\n",
              "  background-color: var(--sklearn-color-fitted-level-0);\n",
              "}\n",
              "\n",
              "#sk-container-id-1 input.sk-toggleable__control:checked~div.sk-toggleable__content {\n",
              "  /* Expand drop-down */\n",
              "  max-height: 200px;\n",
              "  max-width: 100%;\n",
              "  overflow: auto;\n",
              "}\n",
              "\n",
              "#sk-container-id-1 input.sk-toggleable__control:checked~label.sk-toggleable__label-arrow:before {\n",
              "  content: \"\u25be\";\n",
              "}\n",
              "\n",
              "/* Pipeline/ColumnTransformer-specific style */\n",
              "\n",
              "#sk-container-id-1 div.sk-label input.sk-toggleable__control:checked~label.sk-toggleable__label {\n",
              "  color: var(--sklearn-color-text);\n",
              "  background-color: var(--sklearn-color-unfitted-level-2);\n",
              "}\n",
              "\n",
              "#sk-container-id-1 div.sk-label.fitted input.sk-toggleable__control:checked~label.sk-toggleable__label {\n",
              "  background-color: var(--sklearn-color-fitted-level-2);\n",
              "}\n",
              "\n",
              "/* Estimator-specific style */\n",
              "\n",
              "/* Colorize estimator box */\n",
              "#sk-container-id-1 div.sk-estimator input.sk-toggleable__control:checked~label.sk-toggleable__label {\n",
              "  /* unfitted */\n",
              "  background-color: var(--sklearn-color-unfitted-level-2);\n",
              "}\n",
              "\n",
              "#sk-container-id-1 div.sk-estimator.fitted input.sk-toggleable__control:checked~label.sk-toggleable__label {\n",
              "  /* fitted */\n",
              "  background-color: var(--sklearn-color-fitted-level-2);\n",
              "}\n",
              "\n",
              "#sk-container-id-1 div.sk-label label.sk-toggleable__label,\n",
              "#sk-container-id-1 div.sk-label label {\n",
              "  /* The background is the default theme color */\n",
              "  color: var(--sklearn-color-text-on-default-background);\n",
              "}\n",
              "\n",
              "/* On hover, darken the color of the background */\n",
              "#sk-container-id-1 div.sk-label:hover label.sk-toggleable__label {\n",
              "  color: var(--sklearn-color-text);\n",
              "  background-color: var(--sklearn-color-unfitted-level-2);\n",
              "}\n",
              "\n",
              "/* Label box, darken color on hover, fitted */\n",
              "#sk-container-id-1 div.sk-label.fitted:hover label.sk-toggleable__label.fitted {\n",
              "  color: var(--sklearn-color-text);\n",
              "  background-color: var(--sklearn-color-fitted-level-2);\n",
              "}\n",
              "\n",
              "/* Estimator label */\n",
              "\n",
              "#sk-container-id-1 div.sk-label label {\n",
              "  font-family: monospace;\n",
              "  font-weight: bold;\n",
              "  display: inline-block;\n",
              "  line-height: 1.2em;\n",
              "}\n",
              "\n",
              "#sk-container-id-1 div.sk-label-container {\n",
              "  text-align: center;\n",
              "}\n",
              "\n",
              "/* Estimator-specific */\n",
              "#sk-container-id-1 div.sk-estimator {\n",
              "  font-family: monospace;\n",
              "  border: 1px dotted var(--sklearn-color-border-box);\n",
              "  border-radius: 0.25em;\n",
              "  box-sizing: border-box;\n",
              "  margin-bottom: 0.5em;\n",
              "  /* unfitted */\n",
              "  background-color: var(--sklearn-color-unfitted-level-0);\n",
              "}\n",
              "\n",
              "#sk-container-id-1 div.sk-estimator.fitted {\n",
              "  /* fitted */\n",
              "  background-color: var(--sklearn-color-fitted-level-0);\n",
              "}\n",
              "\n",
              "/* on hover */\n",
              "#sk-container-id-1 div.sk-estimator:hover {\n",
              "  /* unfitted */\n",
              "  background-color: var(--sklearn-color-unfitted-level-2);\n",
              "}\n",
              "\n",
              "#sk-container-id-1 div.sk-estimator.fitted:hover {\n",
              "  /* fitted */\n",
              "  background-color: var(--sklearn-color-fitted-level-2);\n",
              "}\n",
              "\n",
              "/* Specification for estimator info (e.g. \"i\" and \"?\") */\n",
              "\n",
              "/* Common style for \"i\" and \"?\" */\n",
              "\n",
              ".sk-estimator-doc-link,\n",
              "a:link.sk-estimator-doc-link,\n",
              "a:visited.sk-estimator-doc-link {\n",
              "  float: right;\n",
              "  font-size: smaller;\n",
              "  line-height: 1em;\n",
              "  font-family: monospace;\n",
              "  background-color: var(--sklearn-color-background);\n",
              "  border-radius: 1em;\n",
              "  height: 1em;\n",
              "  width: 1em;\n",
              "  text-decoration: none !important;\n",
              "  margin-left: 0.5em;\n",
              "  text-align: center;\n",
              "  /* unfitted */\n",
              "  border: var(--sklearn-color-unfitted-level-1) 1pt solid;\n",
              "  color: var(--sklearn-color-unfitted-level-1);\n",
              "}\n",
              "\n",
              ".sk-estimator-doc-link.fitted,\n",
              "a:link.sk-estimator-doc-link.fitted,\n",
              "a:visited.sk-estimator-doc-link.fitted {\n",
              "  /* fitted */\n",
              "  border: var(--sklearn-color-fitted-level-1) 1pt solid;\n",
              "  color: var(--sklearn-color-fitted-level-1);\n",
              "}\n",
              "\n",
              "/* On hover */\n",
              "div.sk-estimator:hover .sk-estimator-doc-link:hover,\n",
              ".sk-estimator-doc-link:hover,\n",
              "div.sk-label-container:hover .sk-estimator-doc-link:hover,\n",
              ".sk-estimator-doc-link:hover {\n",
              "  /* unfitted */\n",
              "  background-color: var(--sklearn-color-unfitted-level-3);\n",
              "  color: var(--sklearn-color-background);\n",
              "  text-decoration: none;\n",
              "}\n",
              "\n",
              "div.sk-estimator.fitted:hover .sk-estimator-doc-link.fitted:hover,\n",
              ".sk-estimator-doc-link.fitted:hover,\n",
              "div.sk-label-container:hover .sk-estimator-doc-link.fitted:hover,\n",
              ".sk-estimator-doc-link.fitted:hover {\n",
              "  /* fitted */\n",
              "  background-color: var(--sklearn-color-fitted-level-3);\n",
              "  color: var(--sklearn-color-background);\n",
              "  text-decoration: none;\n",
              "}\n",
              "\n",
              "/* Span, style for the box shown on hovering the info icon */\n",
              ".sk-estimator-doc-link span {\n",
              "  display: none;\n",
              "  z-index: 9999;\n",
              "  position: relative;\n",
              "  font-weight: normal;\n",
              "  right: .2ex;\n",
              "  padding: .5ex;\n",
              "  margin: .5ex;\n",
              "  width: min-content;\n",
              "  min-width: 20ex;\n",
              "  max-width: 50ex;\n",
              "  color: var(--sklearn-color-text);\n",
              "  box-shadow: 2pt 2pt 4pt #999;\n",
              "  /* unfitted */\n",
              "  background: var(--sklearn-color-unfitted-level-0);\n",
              "  border: .5pt solid var(--sklearn-color-unfitted-level-3);\n",
              "}\n",
              "\n",
              ".sk-estimator-doc-link.fitted span {\n",
              "  /* fitted */\n",
              "  background: var(--sklearn-color-fitted-level-0);\n",
              "  border: var(--sklearn-color-fitted-level-3);\n",
              "}\n",
              "\n",
              ".sk-estimator-doc-link:hover span {\n",
              "  display: block;\n",
              "}\n",
              "\n",
              "/* \"?\"-specific style due to the `<a>` HTML tag */\n",
              "\n",
              "#sk-container-id-1 a.estimator_doc_link {\n",
              "  float: right;\n",
              "  font-size: 1rem;\n",
              "  line-height: 1em;\n",
              "  font-family: monospace;\n",
              "  background-color: var(--sklearn-color-background);\n",
              "  border-radius: 1rem;\n",
              "  height: 1rem;\n",
              "  width: 1rem;\n",
              "  text-decoration: none;\n",
              "  /* unfitted */\n",
              "  color: var(--sklearn-color-unfitted-level-1);\n",
              "  border: var(--sklearn-color-unfitted-level-1) 1pt solid;\n",
              "}\n",
              "\n",
              "#sk-container-id-1 a.estimator_doc_link.fitted {\n",
              "  /* fitted */\n",
              "  border: var(--sklearn-color-fitted-level-1) 1pt solid;\n",
              "  color: var(--sklearn-color-fitted-level-1);\n",
              "}\n",
              "\n",
              "/* On hover */\n",
              "#sk-container-id-1 a.estimator_doc_link:hover {\n",
              "  /* unfitted */\n",
              "  background-color: var(--sklearn-color-unfitted-level-3);\n",
              "  color: var(--sklearn-color-background);\n",
              "  text-decoration: none;\n",
              "}\n",
              "\n",
              "#sk-container-id-1 a.estimator_doc_link.fitted:hover {\n",
              "  /* fitted */\n",
              "  background-color: var(--sklearn-color-fitted-level-3);\n",
              "}\n",
              "</style><div id=\"sk-container-id-1\" class=\"sk-top-container\"><div class=\"sk-text-repr-fallback\"><pre>VotingRegressor(estimators=[(&#x27;lr&#x27;, LinearRegression()),\n",
              "                            (&#x27;rf&#x27;, RandomForestRegressor(random_state=42)),\n",
              "                            (&#x27;gb&#x27;, GradientBoostingRegressor(random_state=42))])</pre><b>In a Jupyter environment, please rerun this cell to show the HTML representation or trust the notebook. <br />On GitHub, the HTML representation is unable to render, please try loading this page with nbviewer.org.</b></div><div class=\"sk-container\" hidden><div class=\"sk-item sk-dashed-wrapped\"><div class=\"sk-label-container\"><div class=\"sk-label fitted sk-toggleable\"><input class=\"sk-toggleable__control sk-hidden--visually\" id=\"sk-estimator-id-1\" type=\"checkbox\" ><label for=\"sk-estimator-id-1\" class=\"sk-toggleable__label fitted sk-toggleable__label-arrow\"><div><div>VotingRegressor</div></div><div><a class=\"sk-estimator-doc-link fitted\" rel=\"noreferrer\" target=\"_blank\" href=\"https://scikit-learn.org/1.6/modules/generated/sklearn.ensemble.VotingRegressor.html\">?<span>Documentation for VotingRegressor</span></a><span class=\"sk-estimator-doc-link fitted\">i<span>Fitted</span></span></div></label><div class=\"sk-toggleable__content fitted\"><pre>VotingRegressor(estimators=[(&#x27;lr&#x27;, LinearRegression()),\n",
              "                            (&#x27;rf&#x27;, RandomForestRegressor(random_state=42)),\n",
              "                            (&#x27;gb&#x27;, GradientBoostingRegressor(random_state=42))])</pre></div> </div></div><div class=\"sk-parallel\"><div class=\"sk-parallel-item\"><div class=\"sk-item\"><div class=\"sk-label-container\"><div class=\"sk-label fitted sk-toggleable\"><label>lr</label></div></div><div class=\"sk-serial\"><div class=\"sk-item\"><div class=\"sk-estimator fitted sk-toggleable\"><input class=\"sk-toggleable__control sk-hidden--visually\" id=\"sk-estimator-id-2\" type=\"checkbox\" ><label for=\"sk-estimator-id-2\" class=\"sk-toggleable__label fitted sk-toggleable__label-arrow\"><div><div>LinearRegression</div></div><div><a class=\"sk-estimator-doc-link fitted\" rel=\"noreferrer\" target=\"_blank\" href=\"https://scikit-learn.org/1.6/modules/generated/sklearn.linear_model.LinearRegression.html\">?<span>Documentation for LinearRegression</span></a></div></label><div class=\"sk-toggleable__content fitted\"><pre>LinearRegression()</pre></div> </div></div></div></div></div><div class=\"sk-parallel-item\"><div class=\"sk-item\"><div class=\"sk-label-container\"><div class=\"sk-label fitted sk-toggleable\"><label>rf</label></div></div><div class=\"sk-serial\"><div class=\"sk-item\"><div class=\"sk-estimator fitted sk-toggleable\"><input class=\"sk-toggleable__control sk-hidden--visually\" id=\"sk-estimator-id-3\" type=\"checkbox\" ><label for=\"sk-estimator-id-3\" class=\"sk-toggleable__label fitted sk-toggleable__label-arrow\"><div><div>RandomForestRegressor</div></div><div><a class=\"sk-estimator-doc-link fitted\" rel=\"noreferrer\" target=\"_blank\" href=\"https://scikit-learn.org/1.6/modules/generated/sklearn.ensemble.RandomForestRegressor.html\">?<span>Documentation for RandomForestRegressor</span></a></div></label><div class=\"sk-toggleable__content fitted\"><pre>RandomForestRegressor(random_state=42)</pre></div> </div></div></div></div></div><div class=\"sk-parallel-item\"><div class=\"sk-item\"><div class=\"sk-label-container\"><div class=\"sk-label fitted sk-toggleable\"><label>gb</label></div></div><div class=\"sk-serial\"><div class=\"sk-item\"><div class=\"sk-estimator fitted sk-toggleable\"><input class=\"sk-toggleable__control sk-hidden--visually\" id=\"sk-estimator-id-4\" type=\"checkbox\" ><label for=\"sk-estimator-id-4\" class=\"sk-toggleable__label fitted sk-toggleable__label-arrow\"><div><div>GradientBoostingRegressor</div></div><div><a class=\"sk-estimator-doc-link fitted\" rel=\"noreferrer\" target=\"_blank\" href=\"https://scikit-learn.org/1.6/modules/generated/sklearn.ensemble.GradientBoostingRegressor.html\">?<span>Documentation for GradientBoostingRegressor</span></a></div></label><div class=\"sk-toggleable__content fitted\"><pre>GradientBoostingRegressor(random_state=42)</pre></div> </div></div></div></div></div></div></div></div></div>"
            ]
          },
          "metadata": {},
          "execution_count": 10
        }
      ]
    },
    {
      "cell_type": "code",
      "source": [
        "# Make predictions\n",
        "lr_pred = lr_model.predict(X_test)\n",
        "rf_pred = rf_model.predict(X_test)\n",
        "gb_pred = gb_model.predict(X_test)\n",
        "ensemble_pred = ensemble_model.predict(X_test)"
      ],
      "metadata": {
        "id": "s3b2F6Swuxft"
      },
      "execution_count": 11,
      "outputs": []
    },
    {
      "cell_type": "code",
      "source": [
        "# Evaluate models\n",
        "import numpy as np # Import numpy with alias np\n",
        "def evaluate_model(y_true, y_pred, model_name):\n",
        "    mse = mean_squared_error(y_true, y_pred)  # Compute MSE\n",
        "    rmse = np.sqrt(mse)  # Take square root for RMSE using np\n",
        "    r2 = r2_score(y_true, y_pred)\n",
        "    print(f\"{model_name} - RMSE: \u20ac{rmse/1e6:.2f}M, R\u00b2: {r2:.4f}\")\n",
        "    return rmse, r2"
      ],
      "metadata": {
        "id": "W6dIpYEOu1Fu"
      },
      "execution_count": 14,
      "outputs": []
    },
    {
      "cell_type": "code",
      "source": [
        "# Evaluate models\n",
        "print(\"\\nModel Performance:\")\n",
        "lr_rmse, lr_r2 = evaluate_model(y_test, lr_pred, \"Linear Regression\")\n",
        "rf_rmse, rf_r2 = evaluate_model(y_test, rf_pred, \"Random Forest\")\n",
        "gb_rmse, gb_r2 = evaluate_model(y_test, gb_pred, \"Gradient Boosting\")\n",
        "ensemble_rmse, ensemble_r2 = evaluate_model(y_test, ensemble_pred, \"Ensemble\")"
      ],
      "metadata": {
        "colab": {
          "base_uri": "https://localhost:8080/"
        },
        "id": "Z0vBlZqiu4tO",
        "outputId": "a5fc0884-f9a9-40de-a044-fe15a0615272"
      },
      "execution_count": 15,
      "outputs": [
        {
          "output_type": "stream",
          "name": "stdout",
          "text": [
            "\n",
            "Model Performance:\n",
            "Linear Regression - RMSE: \u20ac14.54M, R\u00b2: 0.3563\n",
            "Random Forest - RMSE: \u20ac16.38M, R\u00b2: 0.1831\n",
            "Gradient Boosting - RMSE: \u20ac15.75M, R\u00b2: 0.2450\n",
            "Ensemble - RMSE: \u20ac15.26M, R\u00b2: 0.2908\n"
          ]
        }
      ]
    },
    {
      "cell_type": "code",
      "source": [
        "# Best model Identification\n",
        "models_performance = {\n",
        "    \"Linear Regression\": (lr_rmse, lr_r2),\n",
        "    \"Random Forest\": (rf_rmse, rf_r2),\n",
        "    \"Gradient Boosting\": (gb_rmse, gb_r2),\n",
        "    \"Ensemble\": (ensemble_rmse, ensemble_r2)\n",
        "}"
      ],
      "metadata": {
        "id": "2VWhpra0vG0J"
      },
      "execution_count": 18,
      "outputs": []
    },
    {
      "cell_type": "code",
      "source": [
        "best_model_rmse = min(models_performance.items(), key=lambda x: x[1][0])\n",
        "best_model_r2 = max(models_performance.items(), key=lambda x: x[1][1])\n",
        "print(f\"\\nBest Model by RMSE: {best_model_rmse[0]} with RMSE: \u20ac{best_model_rmse[1][0]/1e6:.2f}M\")\n",
        "print(f\"Best Model by R\u00b2: {best_model_r2[0]} with R\u00b2: {best_model_r2[1][1]:.4f}\")"
      ],
      "metadata": {
        "colab": {
          "base_uri": "https://localhost:8080/"
        },
        "id": "BstH6MCWvR19",
        "outputId": "ea708248-ab1b-496f-bd7b-02ccabffae15"
      },
      "execution_count": 19,
      "outputs": [
        {
          "output_type": "stream",
          "name": "stdout",
          "text": [
            "\n",
            "Best Model by RMSE: Linear Regression with RMSE: \u20ac14.54M\n",
            "Best Model by R\u00b2: Linear Regression with R\u00b2: 0.3563\n"
          ]
        }
      ]
    },
    {
      "cell_type": "code",
      "source": [],
      "metadata": {
        "id": "EireTyBcvXD4"
      },
      "execution_count": null,
      "outputs": []
    },
    {
      "cell_type": "markdown",
      "source": [
        "## Visualizations\n",
        "compelling chart to highlight undervalued players visually"
      ],
      "metadata": {
        "id": "00Tohu9tdj-P"
      }
    },
    {
      "cell_type": "code",
      "source": [
        "from matplotlib.backends.backend_pdf import PdfPages\n",
        "import matplotlib.pyplot as plt"
      ],
      "metadata": {
        "id": "NCKuQ0flKrey"
      },
      "execution_count": 20,
      "outputs": []
    },
    {
      "cell_type": "code",
      "source": [
        "plt.figure(figsize=(12, 8))\n",
        "plt.scatter(y_test, lr_pred, label='Linear Regression', alpha=0.5)\n",
        "plt.scatter(y_test, rf_pred, label='Random Forest', alpha=0.5)\n",
        "plt.scatter(y_test, gb_pred, label='Gradient Boosting', alpha=0.5)\n",
        "plt.scatter(y_test, ensemble_pred, label='Ensemble', alpha=0.5)\n",
        "max_val = max(y_test.max(), max(lr_pred.max(), rf_pred.max(), gb_pred.max(), ensemble_pred.max()))\n",
        "plt.plot([0, max_val], [0, max_val], color='gray', linestyle='--', label='Perfect Prediction')\n",
        "plt.xlabel('Actual Transfer Fee (\u20ac)')\n",
        "plt.ylabel('Predicted Transfer Fee (\u20ac)')\n",
        "plt.title('Predicted vs Actual Transfer Fees (2022-2024)')\n",
        "plt.legend()\n",
        "plt.grid(True, linestyle='--', alpha=0.5)\n",
        "plt.tight_layout()\n",
        "plt.show()"
      ],
      "metadata": {
        "colab": {
          "base_uri": "https://localhost:8080/",
          "height": 807
        },
        "id": "LDZ-KEbysfpy",
        "outputId": "6bb52cfe-ee1c-4640-bb79-8de71573b033"
      },
      "execution_count": 22,
      "outputs": [
        {
          "output_type": "display_data",
          "data": {
            "text/plain": [
              "<Figure size 1200x800 with 1 Axes>"
            ],
            "image/png": "[encoded data removed]"
          },
          "metadata": {}
        }
      ]
    },
    {
      "cell_type": "code",
      "source": [
        "# Random Forest Feature importance\n",
        "feature_importance = pd.DataFrame({\n",
        "    'Feature': X.columns,\n",
        "    'Importance': rf_model.feature_importances_\n",
        "}).sort_values('Importance', ascending=False)\n",
        "print(\"\\nRandom Forest Feature Importance:\")\n",
        "print(feature_importance)"
      ],
      "metadata": {
        "colab": {
          "base_uri": "https://localhost:8080/"
        },
        "id": "8Gtd0CMZsmAg",
        "outputId": "a91386ef-9858-4f3b-eb42-2242e1a2cf08"
      },
      "execution_count": 23,
      "outputs": [
        {
          "output_type": "stream",
          "name": "stdout",
          "text": [
            "\n",
            "Random Forest Feature Importance:\n",
            "             Feature  Importance\n",
            "0                 mw    0.748438\n",
            "2       club_encoded    0.133506\n",
            "3               year    0.066611\n",
            "1  sentiment_encoded    0.051445\n"
          ]
        }
      ]
    },
    {
      "cell_type": "code",
      "source": [
        "# feature importance Bar plot\n",
        "plt.figure(figsize=(8, 6))\n",
        "sns.barplot(x='Importance', y='Feature', data=feature_importance, palette='viridis')\n",
        "plt.title('Random Forest Feature Importance')\n",
        "plt.tight_layout()\n",
        "plt.show()"
      ],
      "metadata": {
        "colab": {
          "base_uri": "https://localhost:8080/",
          "height": 696
        },
        "id": "bva6TX1BsoYg",
        "outputId": "c58b98a8-aa4b-4719-834c-6a7e466f1b73"
      },
      "execution_count": 24,
      "outputs": [
        {
          "output_type": "stream",
          "name": "stderr",
          "text": [
            "<ipython-input-24-dfe50f23d947>:3: FutureWarning: \n",
            "\n",
            "Passing `palette` without assigning `hue` is deprecated and will be removed in v0.14.0. Assign the `y` variable to `hue` and set `legend=False` for the same effect.\n",
            "\n",
            "  sns.barplot(x='Importance', y='Feature', data=feature_importance, palette='viridis')\n"
          ]
        },
        {
          "output_type": "display_data",
          "data": {
            "text/plain": [
              "<Figure size 800x600 with 1 Axes>"
            ],
            "image/png": "[encoded data removed]"
          },
          "metadata": {}
        }
      ]
    },
    {
      "cell_type": "code",
      "source": [
        "# Bar Chart\n",
        "plt.figure(figsize=(12, 6))\n",
        "plt.bar(recommendations['player_match'], recommendations['overpayment'], color='skyblue')\n",
        "plt.xticks(rotation=90)\n",
        "plt.xlabel('Player')\n",
        "plt.ylabel('Overpayment (\u20ac)')\n",
        "plt.title('Undervalued Players by Overpayment (2022-2024)')\n",
        "plt.tight_layout()\n",
        "plt.show()"
      ],
      "metadata": {
        "colab": {
          "base_uri": "https://localhost:8080/",
          "height": 607
        },
        "id": "WL5_uiDtJPv0",
        "outputId": "628902fd-7c25-4331-bd34-46d0be69af96"
      },
      "execution_count": 25,
      "outputs": [
        {
          "output_type": "display_data",
          "data": {
            "text/plain": [
              "<Figure size 1200x600 with 1 Axes>"
            ],
            "image/png": "[encoded data removed]"
          },
          "metadata": {}
        }
      ]
    },
    {
      "cell_type": "code",
      "source": [
        "# Scatter Plot\n",
        "plt.figure(figsize=(12, 8))\n",
        "plt.scatter(recommendations['mw'], recommendations['Transfer Fee'], color='skyblue', s=100, alpha=0.7)\n",
        "max_val = max(recommendations['Transfer Fee'].max(), recommendations['mw'].max())\n",
        "plt.plot([0, max_val], [0, max_val], color='gray', linestyle='--', label='Fair Value')\n",
        "for i, row in recommendations.iterrows():\n",
        "    plt.text(row['mw'], row['Transfer Fee'], row['player_match'], fontsize=9, ha='right')\n",
        "plt.xlabel('Market Value (\u20ac)')\n",
        "plt.ylabel('Transfer Fee (\u20ac)')\n",
        "plt.title('Undervalued Players: Market Value vs. Transfer Fee (2022-2024)')\n",
        "plt.legend()\n",
        "plt.grid(True, linestyle='--', alpha=0.5)\n",
        "plt.tight_layout()\n",
        "plt.show()"
      ],
      "metadata": {
        "colab": {
          "base_uri": "https://localhost:8080/",
          "height": 807
        },
        "id": "KFBZECMwKbCo",
        "outputId": "6207809d-7452-416f-ddc4-e8fa362a3c77"
      },
      "execution_count": 26,
      "outputs": [
        {
          "output_type": "display_data",
          "data": {
            "text/plain": [
              "<Figure size 1200x800 with 1 Axes>"
            ],
            "image/png": "[encoded data removed]"
          },
          "metadata": {}
        }
      ]
    },
    {
      "cell_type": "code",
      "source": [],
      "metadata": {
        "id": "nMjxM2YTKa6d"
      },
      "execution_count": null,
      "outputs": []
    },
    {
      "cell_type": "code",
      "source": [],
      "metadata": {
        "id": "hTWjQiyaJPm8"
      },
      "execution_count": null,
      "outputs": []
    }
  ]
}